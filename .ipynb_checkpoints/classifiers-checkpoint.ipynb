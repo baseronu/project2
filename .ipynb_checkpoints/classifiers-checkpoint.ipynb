{
 "cells": [
  {
   "cell_type": "code",
   "execution_count": 68,
   "metadata": {},
   "outputs": [],
   "source": [
    "import numpy as np\n",
    "import pandas as pd\n",
    "from pathlib import Path\n",
    "import hvplot.pandas\n",
    "import matplotlib.pyplot as plt\n",
    "%matplotlib inline\n",
    "import numpy as np\n",
    "from datetime import datetime,date\n",
    "import datetime as dt\n",
    "from collections import Counter\n",
    "from matplotlib.ticker import FuncFormatter\n",
    "import tensorflow as tf\n",
    "\n",
    "import seaborn as sns\n",
    "plt.style.use('ggplot')\n",
    "\n",
    "import warnings\n",
    "warnings.filterwarnings('ignore')\n",
    "\n",
    "from sklearn.model_selection import train_test_split\n",
    "from sklearn.ensemble import RandomForestClassifier\n",
    "from sklearn.preprocessing import StandardScaler\n",
    "from sklearn.preprocessing import MinMaxScaler\n",
    "from sklearn.metrics import confusion_matrix, accuracy_score, classification_report\n",
    "from sklearn.ensemble import GradientBoostingClassifier\n",
    "from sklearn import metrics\n",
    "from sklearn import tree\n",
    "from sklearn.linear_model import LogisticRegression\n",
    "from sklearn.metrics import mean_squared_error\n",
    "from sklearn.metrics import roc_curve, auc\n",
    "from tensorflow.keras.models import Sequential\n",
    "from tensorflow.keras.layers import Dense\n",
    "\n",
    "# Needed for decision tree visualization\n",
    "import pydotplus\n",
    "from IPython.display import Image\n"
   ]
  },
  {
   "cell_type": "code",
   "execution_count": 69,
   "metadata": {},
   "outputs": [],
   "source": [
    "#load the data\n",
    "\n",
    "file_path = Path('./Resources/serviced_dataframe_w_return.csv')\n",
    "df = pd.read_csv('serviced_dataframe_w_return.csv')[:-2]\n"
   ]
  },
  {
   "cell_type": "code",
   "execution_count": 70,
   "metadata": {},
   "outputs": [
    {
     "data": {
      "text/plain": [
       "(1040752, 37)"
      ]
     },
     "execution_count": 70,
     "metadata": {},
     "output_type": "execute_result"
    }
   ],
   "source": [
    "df.shape"
   ]
  },
  {
   "cell_type": "code",
   "execution_count": 71,
   "metadata": {},
   "outputs": [
    {
     "data": {
      "text/plain": [
       "['id',\n",
       " 'application_type',\n",
       " 'desc',\n",
       " 'loan_amnt',\n",
       " 'funded_amnt',\n",
       " 'term',\n",
       " 'int_rate',\n",
       " 'grade',\n",
       " 'sub_grade',\n",
       " 'emp_length',\n",
       " 'home_ownership',\n",
       " 'annual_inc',\n",
       " 'verification_status',\n",
       " 'issue_d',\n",
       " 'loan_status',\n",
       " 'purpose',\n",
       " 'dti',\n",
       " 'delinq_2yrs',\n",
       " 'earliest_cr_line',\n",
       " 'open_acc',\n",
       " 'pub_rec',\n",
       " 'fico_range_high',\n",
       " 'fico_range_low',\n",
       " 'revol_bal',\n",
       " 'revol_util',\n",
       " 'total_pymnt',\n",
       " 'recoveries',\n",
       " 'last_pymnt_d',\n",
       " 'year_months',\n",
       " 'has_desc',\n",
       " 'credit_hist',\n",
       " 'loan_length',\n",
       " 'term_num',\n",
       " 'ret_low',\n",
       " 'ret_high',\n",
       " 'good',\n",
       " 'emp_length_num']"
      ]
     },
     "execution_count": 71,
     "metadata": {},
     "output_type": "execute_result"
    }
   ],
   "source": [
    "list(df)"
   ]
  },
  {
   "cell_type": "code",
   "execution_count": 72,
   "metadata": {},
   "outputs": [],
   "source": [
    "# Identify the type of each of these column\n",
    "float_cols = ['loan_amnt', 'funded_amnt','annual_inc',\n",
    "                     'dti', 'revol_bal', 'delinq_2yrs', 'open_acc', 'pub_rec',\n",
    "                                'fico_range_high', 'fico_range_low', 'total_pymnt', 'recoveries']\n",
    "cat_cols = ['term', 'grade', 'sub_grade', 'desc', 'emp_length', 'home_ownership',\n",
    "                    'verification_status', 'loan_status', 'purpose','application_type']\n",
    "perc_cols = ['int_rate', 'revol_util','ret_low','ret_high']\n",
    "date_cols = ['issue_d', 'earliest_cr_line', 'last_pymnt_d', 'year_months']"
   ]
  },
  {
   "cell_type": "code",
   "execution_count": 73,
   "metadata": {},
   "outputs": [],
   "source": [
    "#define the loan status\n",
    "\n",
    "#d =  {'Fully Paid':0, 'Charged Off':1, 'Default':1}\n",
    "\n",
    "#df['loan_status'] = df['loan_status']. map(d)"
   ]
  },
  {
   "cell_type": "code",
   "execution_count": 74,
   "metadata": {},
   "outputs": [],
   "source": [
    "#new FICO average\n",
    "\n",
    "df['fico_avg'] = (df.fico_range_high + df.fico_range_low)/2"
   ]
  },
  {
   "cell_type": "code",
   "execution_count": 75,
   "metadata": {},
   "outputs": [],
   "source": [
    "columns = [\n",
    " 'application_type',\n",
    " 'loan_amnt',\n",
    " 'funded_amnt',\n",
    " 'int_rate',\n",
    " 'grade',\n",
    " 'sub_grade',\n",
    " 'home_ownership',\n",
    " 'annual_inc',\n",
    " 'verification_status',\n",
    " 'purpose',\n",
    " 'dti',\n",
    " 'delinq_2yrs',\n",
    " 'open_acc',\n",
    " 'pub_rec',\n",
    " #'fico_avg',\n",
    " 'fico_range_high',\n",
    " 'fico_range_low',\n",
    " 'revol_bal',\n",
    " 'revol_util',\n",
    " 'total_pymnt',\n",
    " 'recoveries',\n",
    " 'last_pymnt_d',\n",
    " 'has_desc',\n",
    " 'credit_hist',\n",
    " #'loan_length',\n",
    " 'term',\n",
    " #'ret_low',\n",
    " #'ret_high',\n",
    " 'good',\n",
    " 'emp_length_num'\n",
    "]\n",
    "\n",
    "target = [\"good\"]\n",
    "\n"
   ]
  },
  {
   "cell_type": "code",
   "execution_count": 76,
   "metadata": {},
   "outputs": [],
   "source": [
    "df = df.loc[:, columns].copy()"
   ]
  },
  {
   "cell_type": "code",
   "execution_count": 77,
   "metadata": {},
   "outputs": [],
   "source": [
    "# Create our features\n",
    "X = df.copy()\n",
    "X.drop('good', axis=1, inplace=True)\n",
    "\n",
    "# Create our target\n",
    "y = df['good']\n"
   ]
  },
  {
   "cell_type": "code",
   "execution_count": 78,
   "metadata": {},
   "outputs": [],
   "source": [
    "to_drop = ['recoveries', 'total_pymnt', 'dti','last_pymnt_d',\n",
    "         'revol_util', 'open_acc', 'pub_rec', 'revol_bal',\n",
    "         'revol_util', 'delinq_2yrs']\n",
    "\n",
    "X.drop(to_drop, axis=1, inplace=True)\n"
   ]
  },
  {
   "cell_type": "code",
   "execution_count": 79,
   "metadata": {},
   "outputs": [],
   "source": [
    "app =  {'Individual':0, 'Joint App':1}\n",
    "\n",
    "X['application_type'] = X['application_type']. map(app)"
   ]
  },
  {
   "cell_type": "code",
   "execution_count": 80,
   "metadata": {},
   "outputs": [],
   "source": [
    "grade =  {'A':1, 'B':2, 'C':3, 'D':4, 'E':5, 'F':6, 'G':7}\n",
    "\n",
    "X['grade'] = X['grade']. map(grade)"
   ]
  },
  {
   "cell_type": "code",
   "execution_count": 81,
   "metadata": {},
   "outputs": [],
   "source": [
    "t =  {' 36 months':0, ' 60 months':1}\n",
    "\n",
    "X['term'] = X['term']. map(t)"
   ]
  },
  {
   "cell_type": "code",
   "execution_count": 82,
   "metadata": {},
   "outputs": [],
   "source": [
    "v =  {'Not Verified':0, 'Source Verified':1, 'Verified':2}\n",
    "\n",
    "X['verification_status'] = X['verification_status']. map(v)"
   ]
  },
  {
   "cell_type": "code",
   "execution_count": 83,
   "metadata": {},
   "outputs": [],
   "source": [
    "d =  {False:0, True:1}\n",
    "\n",
    "X['has_desc'] = X['has_desc']. map(d)"
   ]
  },
  {
   "cell_type": "code",
   "execution_count": 84,
   "metadata": {},
   "outputs": [],
   "source": [
    "sub_grades = sorted(df.sub_grade.unique())\n",
    "sub_grades_dict = {x:sub_grades.index(x)+1 for x in sub_grades} \n",
    "\n",
    "X['sub_grade'] = X['sub_grade']. map(sub_grades_dict)\n"
   ]
  },
  {
   "cell_type": "code",
   "execution_count": 85,
   "metadata": {},
   "outputs": [
    {
     "data": {
      "text/html": [
       "<div>\n",
       "<style scoped>\n",
       "    .dataframe tbody tr th:only-of-type {\n",
       "        vertical-align: middle;\n",
       "    }\n",
       "\n",
       "    .dataframe tbody tr th {\n",
       "        vertical-align: top;\n",
       "    }\n",
       "\n",
       "    .dataframe thead th {\n",
       "        text-align: right;\n",
       "    }\n",
       "</style>\n",
       "<table border=\"1\" class=\"dataframe\">\n",
       "  <thead>\n",
       "    <tr style=\"text-align: right;\">\n",
       "      <th></th>\n",
       "      <th>470883</th>\n",
       "      <th>78842</th>\n",
       "      <th>979547</th>\n",
       "    </tr>\n",
       "  </thead>\n",
       "  <tbody>\n",
       "    <tr>\n",
       "      <th>application_type</th>\n",
       "      <td>0</td>\n",
       "      <td>0</td>\n",
       "      <td>1</td>\n",
       "    </tr>\n",
       "    <tr>\n",
       "      <th>loan_amnt</th>\n",
       "      <td>35000</td>\n",
       "      <td>35000</td>\n",
       "      <td>11100</td>\n",
       "    </tr>\n",
       "    <tr>\n",
       "      <th>funded_amnt</th>\n",
       "      <td>35000</td>\n",
       "      <td>35000</td>\n",
       "      <td>11100</td>\n",
       "    </tr>\n",
       "    <tr>\n",
       "      <th>int_rate</th>\n",
       "      <td>0.1757</td>\n",
       "      <td>0.2557</td>\n",
       "      <td>0.1699</td>\n",
       "    </tr>\n",
       "    <tr>\n",
       "      <th>grade</th>\n",
       "      <td>4</td>\n",
       "      <td>6</td>\n",
       "      <td>4</td>\n",
       "    </tr>\n",
       "    <tr>\n",
       "      <th>sub_grade</th>\n",
       "      <td>19</td>\n",
       "      <td>30</td>\n",
       "      <td>16</td>\n",
       "    </tr>\n",
       "    <tr>\n",
       "      <th>home_ownership</th>\n",
       "      <td>MORTGAGE</td>\n",
       "      <td>OWN</td>\n",
       "      <td>OWN</td>\n",
       "    </tr>\n",
       "    <tr>\n",
       "      <th>annual_inc</th>\n",
       "      <td>105000</td>\n",
       "      <td>155000</td>\n",
       "      <td>40000</td>\n",
       "    </tr>\n",
       "    <tr>\n",
       "      <th>verification_status</th>\n",
       "      <td>2</td>\n",
       "      <td>2</td>\n",
       "      <td>1</td>\n",
       "    </tr>\n",
       "    <tr>\n",
       "      <th>purpose</th>\n",
       "      <td>debt_consolidation</td>\n",
       "      <td>debt_consolidation</td>\n",
       "      <td>debt_consolidation</td>\n",
       "    </tr>\n",
       "    <tr>\n",
       "      <th>fico_range_high</th>\n",
       "      <td>684</td>\n",
       "      <td>704</td>\n",
       "      <td>664</td>\n",
       "    </tr>\n",
       "    <tr>\n",
       "      <th>fico_range_low</th>\n",
       "      <td>680</td>\n",
       "      <td>700</td>\n",
       "      <td>660</td>\n",
       "    </tr>\n",
       "    <tr>\n",
       "      <th>has_desc</th>\n",
       "      <td>0</td>\n",
       "      <td>0</td>\n",
       "      <td>0</td>\n",
       "    </tr>\n",
       "    <tr>\n",
       "      <th>credit_hist</th>\n",
       "      <td>14</td>\n",
       "      <td>20</td>\n",
       "      <td>19</td>\n",
       "    </tr>\n",
       "    <tr>\n",
       "      <th>term</th>\n",
       "      <td>0</td>\n",
       "      <td>1</td>\n",
       "      <td>0</td>\n",
       "    </tr>\n",
       "    <tr>\n",
       "      <th>emp_length_num</th>\n",
       "      <td>5</td>\n",
       "      <td>0</td>\n",
       "      <td>10</td>\n",
       "    </tr>\n",
       "  </tbody>\n",
       "</table>\n",
       "</div>"
      ],
      "text/plain": [
       "                                 470883              78842   \\\n",
       "application_type                      0                   0   \n",
       "loan_amnt                         35000               35000   \n",
       "funded_amnt                       35000               35000   \n",
       "int_rate                         0.1757              0.2557   \n",
       "grade                                 4                   6   \n",
       "sub_grade                            19                  30   \n",
       "home_ownership                 MORTGAGE                 OWN   \n",
       "annual_inc                       105000              155000   \n",
       "verification_status                   2                   2   \n",
       "purpose              debt_consolidation  debt_consolidation   \n",
       "fico_range_high                     684                 704   \n",
       "fico_range_low                      680                 700   \n",
       "has_desc                              0                   0   \n",
       "credit_hist                          14                  20   \n",
       "term                                  0                   1   \n",
       "emp_length_num                        5                   0   \n",
       "\n",
       "                                 979547  \n",
       "application_type                      1  \n",
       "loan_amnt                         11100  \n",
       "funded_amnt                       11100  \n",
       "int_rate                         0.1699  \n",
       "grade                                 4  \n",
       "sub_grade                            16  \n",
       "home_ownership                      OWN  \n",
       "annual_inc                        40000  \n",
       "verification_status                   1  \n",
       "purpose              debt_consolidation  \n",
       "fico_range_high                     664  \n",
       "fico_range_low                      660  \n",
       "has_desc                              0  \n",
       "credit_hist                          19  \n",
       "term                                  0  \n",
       "emp_length_num                       10  "
      ]
     },
     "execution_count": 85,
     "metadata": {},
     "output_type": "execute_result"
    }
   ],
   "source": [
    "X.sample(3).T"
   ]
  },
  {
   "cell_type": "code",
   "execution_count": 86,
   "metadata": {},
   "outputs": [],
   "source": [
    "cat_col = ['home_ownership','purpose']\n",
    "\n",
    "X = pd.get_dummies(X, columns=cat_col)"
   ]
  },
  {
   "cell_type": "code",
   "execution_count": 87,
   "metadata": {},
   "outputs": [
    {
     "data": {
      "text/html": [
       "<div>\n",
       "<style scoped>\n",
       "    .dataframe tbody tr th:only-of-type {\n",
       "        vertical-align: middle;\n",
       "    }\n",
       "\n",
       "    .dataframe tbody tr th {\n",
       "        vertical-align: top;\n",
       "    }\n",
       "\n",
       "    .dataframe thead th {\n",
       "        text-align: right;\n",
       "    }\n",
       "</style>\n",
       "<table border=\"1\" class=\"dataframe\">\n",
       "  <thead>\n",
       "    <tr style=\"text-align: right;\">\n",
       "      <th></th>\n",
       "      <th>application_type</th>\n",
       "      <th>loan_amnt</th>\n",
       "      <th>funded_amnt</th>\n",
       "      <th>int_rate</th>\n",
       "      <th>grade</th>\n",
       "      <th>sub_grade</th>\n",
       "      <th>annual_inc</th>\n",
       "      <th>verification_status</th>\n",
       "      <th>fico_range_high</th>\n",
       "      <th>fico_range_low</th>\n",
       "      <th>...</th>\n",
       "      <th>purpose_home_improvement</th>\n",
       "      <th>purpose_house</th>\n",
       "      <th>purpose_major_purchase</th>\n",
       "      <th>purpose_medical</th>\n",
       "      <th>purpose_moving</th>\n",
       "      <th>purpose_other</th>\n",
       "      <th>purpose_renewable_energy</th>\n",
       "      <th>purpose_small_business</th>\n",
       "      <th>purpose_vacation</th>\n",
       "      <th>purpose_wedding</th>\n",
       "    </tr>\n",
       "  </thead>\n",
       "  <tbody>\n",
       "    <tr>\n",
       "      <th>count</th>\n",
       "      <td>1.040752e+06</td>\n",
       "      <td>1.040752e+06</td>\n",
       "      <td>1.040752e+06</td>\n",
       "      <td>1.040752e+06</td>\n",
       "      <td>1.040752e+06</td>\n",
       "      <td>1.040752e+06</td>\n",
       "      <td>1.040752e+06</td>\n",
       "      <td>1.040752e+06</td>\n",
       "      <td>1.040752e+06</td>\n",
       "      <td>1.040752e+06</td>\n",
       "      <td>...</td>\n",
       "      <td>1.040752e+06</td>\n",
       "      <td>1.040752e+06</td>\n",
       "      <td>1.040752e+06</td>\n",
       "      <td>1.040752e+06</td>\n",
       "      <td>1.040752e+06</td>\n",
       "      <td>1.040752e+06</td>\n",
       "      <td>1.040752e+06</td>\n",
       "      <td>1.040752e+06</td>\n",
       "      <td>1.040752e+06</td>\n",
       "      <td>1.040752e+06</td>\n",
       "    </tr>\n",
       "    <tr>\n",
       "      <th>mean</th>\n",
       "      <td>7.756891e-03</td>\n",
       "      <td>1.472380e+04</td>\n",
       "      <td>1.472378e+04</td>\n",
       "      <td>1.294675e-01</td>\n",
       "      <td>2.753028e+00</td>\n",
       "      <td>1.171417e+01</td>\n",
       "      <td>7.711343e+04</td>\n",
       "      <td>1.010963e+00</td>\n",
       "      <td>6.979456e+02</td>\n",
       "      <td>6.939454e+02</td>\n",
       "      <td>...</td>\n",
       "      <td>6.354252e-02</td>\n",
       "      <td>3.820315e-03</td>\n",
       "      <td>1.986544e-02</td>\n",
       "      <td>1.082102e-02</td>\n",
       "      <td>6.519324e-03</td>\n",
       "      <td>5.376497e-02</td>\n",
       "      <td>6.043707e-04</td>\n",
       "      <td>9.622850e-03</td>\n",
       "      <td>6.310821e-03</td>\n",
       "      <td>1.345181e-05</td>\n",
       "    </tr>\n",
       "    <tr>\n",
       "      <th>std</th>\n",
       "      <td>8.773100e-02</td>\n",
       "      <td>8.685624e+03</td>\n",
       "      <td>8.685624e+03</td>\n",
       "      <td>4.576142e-02</td>\n",
       "      <td>1.283666e+00</td>\n",
       "      <td>6.382068e+00</td>\n",
       "      <td>7.162064e+04</td>\n",
       "      <td>7.552677e-01</td>\n",
       "      <td>3.048880e+01</td>\n",
       "      <td>3.048817e+01</td>\n",
       "      <td>...</td>\n",
       "      <td>2.439363e-01</td>\n",
       "      <td>6.169055e-02</td>\n",
       "      <td>1.395379e-01</td>\n",
       "      <td>1.034598e-01</td>\n",
       "      <td>8.047875e-02</td>\n",
       "      <td>2.255534e-01</td>\n",
       "      <td>2.457653e-02</td>\n",
       "      <td>9.762305e-02</td>\n",
       "      <td>7.918965e-02</td>\n",
       "      <td>3.667648e-03</td>\n",
       "    </tr>\n",
       "    <tr>\n",
       "      <th>min</th>\n",
       "      <td>0.000000e+00</td>\n",
       "      <td>1.000000e+03</td>\n",
       "      <td>1.000000e+03</td>\n",
       "      <td>5.320000e-02</td>\n",
       "      <td>1.000000e+00</td>\n",
       "      <td>1.000000e+00</td>\n",
       "      <td>0.000000e+00</td>\n",
       "      <td>0.000000e+00</td>\n",
       "      <td>6.640000e+02</td>\n",
       "      <td>6.600000e+02</td>\n",
       "      <td>...</td>\n",
       "      <td>0.000000e+00</td>\n",
       "      <td>0.000000e+00</td>\n",
       "      <td>0.000000e+00</td>\n",
       "      <td>0.000000e+00</td>\n",
       "      <td>0.000000e+00</td>\n",
       "      <td>0.000000e+00</td>\n",
       "      <td>0.000000e+00</td>\n",
       "      <td>0.000000e+00</td>\n",
       "      <td>0.000000e+00</td>\n",
       "      <td>0.000000e+00</td>\n",
       "    </tr>\n",
       "    <tr>\n",
       "      <th>25%</th>\n",
       "      <td>0.000000e+00</td>\n",
       "      <td>8.000000e+03</td>\n",
       "      <td>8.000000e+03</td>\n",
       "      <td>9.170000e-02</td>\n",
       "      <td>2.000000e+00</td>\n",
       "      <td>7.000000e+00</td>\n",
       "      <td>4.600000e+04</td>\n",
       "      <td>0.000000e+00</td>\n",
       "      <td>6.740000e+02</td>\n",
       "      <td>6.700000e+02</td>\n",
       "      <td>...</td>\n",
       "      <td>0.000000e+00</td>\n",
       "      <td>0.000000e+00</td>\n",
       "      <td>0.000000e+00</td>\n",
       "      <td>0.000000e+00</td>\n",
       "      <td>0.000000e+00</td>\n",
       "      <td>0.000000e+00</td>\n",
       "      <td>0.000000e+00</td>\n",
       "      <td>0.000000e+00</td>\n",
       "      <td>0.000000e+00</td>\n",
       "      <td>0.000000e+00</td>\n",
       "    </tr>\n",
       "    <tr>\n",
       "      <th>50%</th>\n",
       "      <td>0.000000e+00</td>\n",
       "      <td>1.270000e+04</td>\n",
       "      <td>1.270000e+04</td>\n",
       "      <td>1.269000e-01</td>\n",
       "      <td>3.000000e+00</td>\n",
       "      <td>1.100000e+01</td>\n",
       "      <td>6.500000e+04</td>\n",
       "      <td>1.000000e+00</td>\n",
       "      <td>6.890000e+02</td>\n",
       "      <td>6.850000e+02</td>\n",
       "      <td>...</td>\n",
       "      <td>0.000000e+00</td>\n",
       "      <td>0.000000e+00</td>\n",
       "      <td>0.000000e+00</td>\n",
       "      <td>0.000000e+00</td>\n",
       "      <td>0.000000e+00</td>\n",
       "      <td>0.000000e+00</td>\n",
       "      <td>0.000000e+00</td>\n",
       "      <td>0.000000e+00</td>\n",
       "      <td>0.000000e+00</td>\n",
       "      <td>0.000000e+00</td>\n",
       "    </tr>\n",
       "    <tr>\n",
       "      <th>75%</th>\n",
       "      <td>0.000000e+00</td>\n",
       "      <td>2.000000e+04</td>\n",
       "      <td>2.000000e+04</td>\n",
       "      <td>1.561000e-01</td>\n",
       "      <td>4.000000e+00</td>\n",
       "      <td>1.600000e+01</td>\n",
       "      <td>9.200000e+04</td>\n",
       "      <td>2.000000e+00</td>\n",
       "      <td>7.140000e+02</td>\n",
       "      <td>7.100000e+02</td>\n",
       "      <td>...</td>\n",
       "      <td>0.000000e+00</td>\n",
       "      <td>0.000000e+00</td>\n",
       "      <td>0.000000e+00</td>\n",
       "      <td>0.000000e+00</td>\n",
       "      <td>0.000000e+00</td>\n",
       "      <td>0.000000e+00</td>\n",
       "      <td>0.000000e+00</td>\n",
       "      <td>0.000000e+00</td>\n",
       "      <td>0.000000e+00</td>\n",
       "      <td>0.000000e+00</td>\n",
       "    </tr>\n",
       "    <tr>\n",
       "      <th>max</th>\n",
       "      <td>1.000000e+00</td>\n",
       "      <td>4.000000e+04</td>\n",
       "      <td>4.000000e+04</td>\n",
       "      <td>3.099000e-01</td>\n",
       "      <td>7.000000e+00</td>\n",
       "      <td>3.500000e+01</td>\n",
       "      <td>9.573072e+06</td>\n",
       "      <td>2.000000e+00</td>\n",
       "      <td>8.500000e+02</td>\n",
       "      <td>8.450000e+02</td>\n",
       "      <td>...</td>\n",
       "      <td>1.000000e+00</td>\n",
       "      <td>1.000000e+00</td>\n",
       "      <td>1.000000e+00</td>\n",
       "      <td>1.000000e+00</td>\n",
       "      <td>1.000000e+00</td>\n",
       "      <td>1.000000e+00</td>\n",
       "      <td>1.000000e+00</td>\n",
       "      <td>1.000000e+00</td>\n",
       "      <td>1.000000e+00</td>\n",
       "      <td>1.000000e+00</td>\n",
       "    </tr>\n",
       "  </tbody>\n",
       "</table>\n",
       "<p>8 rows × 32 columns</p>\n",
       "</div>"
      ],
      "text/plain": [
       "       application_type     loan_amnt   funded_amnt      int_rate  \\\n",
       "count      1.040752e+06  1.040752e+06  1.040752e+06  1.040752e+06   \n",
       "mean       7.756891e-03  1.472380e+04  1.472378e+04  1.294675e-01   \n",
       "std        8.773100e-02  8.685624e+03  8.685624e+03  4.576142e-02   \n",
       "min        0.000000e+00  1.000000e+03  1.000000e+03  5.320000e-02   \n",
       "25%        0.000000e+00  8.000000e+03  8.000000e+03  9.170000e-02   \n",
       "50%        0.000000e+00  1.270000e+04  1.270000e+04  1.269000e-01   \n",
       "75%        0.000000e+00  2.000000e+04  2.000000e+04  1.561000e-01   \n",
       "max        1.000000e+00  4.000000e+04  4.000000e+04  3.099000e-01   \n",
       "\n",
       "              grade     sub_grade    annual_inc  verification_status  \\\n",
       "count  1.040752e+06  1.040752e+06  1.040752e+06         1.040752e+06   \n",
       "mean   2.753028e+00  1.171417e+01  7.711343e+04         1.010963e+00   \n",
       "std    1.283666e+00  6.382068e+00  7.162064e+04         7.552677e-01   \n",
       "min    1.000000e+00  1.000000e+00  0.000000e+00         0.000000e+00   \n",
       "25%    2.000000e+00  7.000000e+00  4.600000e+04         0.000000e+00   \n",
       "50%    3.000000e+00  1.100000e+01  6.500000e+04         1.000000e+00   \n",
       "75%    4.000000e+00  1.600000e+01  9.200000e+04         2.000000e+00   \n",
       "max    7.000000e+00  3.500000e+01  9.573072e+06         2.000000e+00   \n",
       "\n",
       "       fico_range_high  fico_range_low  ...  purpose_home_improvement  \\\n",
       "count     1.040752e+06    1.040752e+06  ...              1.040752e+06   \n",
       "mean      6.979456e+02    6.939454e+02  ...              6.354252e-02   \n",
       "std       3.048880e+01    3.048817e+01  ...              2.439363e-01   \n",
       "min       6.640000e+02    6.600000e+02  ...              0.000000e+00   \n",
       "25%       6.740000e+02    6.700000e+02  ...              0.000000e+00   \n",
       "50%       6.890000e+02    6.850000e+02  ...              0.000000e+00   \n",
       "75%       7.140000e+02    7.100000e+02  ...              0.000000e+00   \n",
       "max       8.500000e+02    8.450000e+02  ...              1.000000e+00   \n",
       "\n",
       "       purpose_house  purpose_major_purchase  purpose_medical  purpose_moving  \\\n",
       "count   1.040752e+06            1.040752e+06     1.040752e+06    1.040752e+06   \n",
       "mean    3.820315e-03            1.986544e-02     1.082102e-02    6.519324e-03   \n",
       "std     6.169055e-02            1.395379e-01     1.034598e-01    8.047875e-02   \n",
       "min     0.000000e+00            0.000000e+00     0.000000e+00    0.000000e+00   \n",
       "25%     0.000000e+00            0.000000e+00     0.000000e+00    0.000000e+00   \n",
       "50%     0.000000e+00            0.000000e+00     0.000000e+00    0.000000e+00   \n",
       "75%     0.000000e+00            0.000000e+00     0.000000e+00    0.000000e+00   \n",
       "max     1.000000e+00            1.000000e+00     1.000000e+00    1.000000e+00   \n",
       "\n",
       "       purpose_other  purpose_renewable_energy  purpose_small_business  \\\n",
       "count   1.040752e+06              1.040752e+06            1.040752e+06   \n",
       "mean    5.376497e-02              6.043707e-04            9.622850e-03   \n",
       "std     2.255534e-01              2.457653e-02            9.762305e-02   \n",
       "min     0.000000e+00              0.000000e+00            0.000000e+00   \n",
       "25%     0.000000e+00              0.000000e+00            0.000000e+00   \n",
       "50%     0.000000e+00              0.000000e+00            0.000000e+00   \n",
       "75%     0.000000e+00              0.000000e+00            0.000000e+00   \n",
       "max     1.000000e+00              1.000000e+00            1.000000e+00   \n",
       "\n",
       "       purpose_vacation  purpose_wedding  \n",
       "count      1.040752e+06     1.040752e+06  \n",
       "mean       6.310821e-03     1.345181e-05  \n",
       "std        7.918965e-02     3.667648e-03  \n",
       "min        0.000000e+00     0.000000e+00  \n",
       "25%        0.000000e+00     0.000000e+00  \n",
       "50%        0.000000e+00     0.000000e+00  \n",
       "75%        0.000000e+00     0.000000e+00  \n",
       "max        1.000000e+00     1.000000e+00  \n",
       "\n",
       "[8 rows x 32 columns]"
      ]
     },
     "execution_count": 87,
     "metadata": {},
     "output_type": "execute_result"
    }
   ],
   "source": [
    "X.describe()"
   ]
  },
  {
   "cell_type": "code",
   "execution_count": 88,
   "metadata": {},
   "outputs": [],
   "source": [
    "# Splitting into Train and Test sets\n",
    "X_train, X_test, y_train, y_test = train_test_split(X, y, random_state=78)\n",
    "\n",
    "X_train, X_val, y_train, y_val = train_test_split(X_train, y_train, random_state=78)"
   ]
  },
  {
   "cell_type": "code",
   "execution_count": 89,
   "metadata": {},
   "outputs": [
    {
     "name": "stdout",
     "output_type": "stream",
     "text": [
      "(585423, 32)\n",
      "(260188, 32)\n",
      "(585423,)\n",
      "(260188,)\n"
     ]
    }
   ],
   "source": [
    "print(X_train.shape)\n",
    "print(X_test.shape)\n",
    "print(y_train.shape)\n",
    "print(y_test.shape)"
   ]
  },
  {
   "cell_type": "code",
   "execution_count": 90,
   "metadata": {},
   "outputs": [],
   "source": [
    "# Creating StandardScaler instance\n",
    "scaler = StandardScaler()\n"
   ]
  },
  {
   "cell_type": "code",
   "execution_count": 91,
   "metadata": {},
   "outputs": [],
   "source": [
    "# Fitting Standard Scaller\n",
    "X_scaler = scaler.fit(X_train)\n"
   ]
  },
  {
   "cell_type": "code",
   "execution_count": 92,
   "metadata": {},
   "outputs": [],
   "source": [
    "\n",
    "# Scaling data\n",
    "X_train_scaled = X_scaler.transform(X_train)\n",
    "X_test_scaled = X_scaler.transform(X_test)\n",
    "\n"
   ]
  },
  {
   "cell_type": "markdown",
   "metadata": {},
   "source": [
    "## RANDOM FOREST CLASSIFIER"
   ]
  },
  {
   "cell_type": "code",
   "execution_count": 93,
   "metadata": {},
   "outputs": [],
   "source": [
    "# Create a random forest classifier\n",
    "rf_model = RandomForestClassifier(n_estimators=500, random_state=34)\n",
    "\n"
   ]
  },
  {
   "cell_type": "code",
   "execution_count": 94,
   "metadata": {},
   "outputs": [
    {
     "data": {
      "text/plain": [
       "dtype('float64')"
      ]
     },
     "execution_count": 94,
     "metadata": {},
     "output_type": "execute_result"
    }
   ],
   "source": [
    "X_train_scaled.dtype"
   ]
  },
  {
   "cell_type": "code",
   "execution_count": 95,
   "metadata": {},
   "outputs": [],
   "source": [
    "# Fitting the model\n",
    "rf_model = rf_model.fit(X_train_scaled, y_train)\n"
   ]
  },
  {
   "cell_type": "code",
   "execution_count": 96,
   "metadata": {},
   "outputs": [],
   "source": [
    "# Making predictions using the testing data\n",
    "predictions = rf_model.predict(X_test_scaled)\n"
   ]
  },
  {
   "cell_type": "code",
   "execution_count": 97,
   "metadata": {},
   "outputs": [
    {
     "data": {
      "text/html": [
       "<div>\n",
       "<style scoped>\n",
       "    .dataframe tbody tr th:only-of-type {\n",
       "        vertical-align: middle;\n",
       "    }\n",
       "\n",
       "    .dataframe tbody tr th {\n",
       "        vertical-align: top;\n",
       "    }\n",
       "\n",
       "    .dataframe thead th {\n",
       "        text-align: right;\n",
       "    }\n",
       "</style>\n",
       "<table border=\"1\" class=\"dataframe\">\n",
       "  <thead>\n",
       "    <tr style=\"text-align: right;\">\n",
       "      <th></th>\n",
       "      <th>Predicted 0</th>\n",
       "      <th>Predicted 1</th>\n",
       "    </tr>\n",
       "  </thead>\n",
       "  <tbody>\n",
       "    <tr>\n",
       "      <th>Actual 0</th>\n",
       "      <td>3888</td>\n",
       "      <td>46012</td>\n",
       "    </tr>\n",
       "    <tr>\n",
       "      <th>Actual 1</th>\n",
       "      <td>4360</td>\n",
       "      <td>205928</td>\n",
       "    </tr>\n",
       "  </tbody>\n",
       "</table>\n",
       "</div>"
      ],
      "text/plain": [
       "          Predicted 0  Predicted 1\n",
       "Actual 0         3888        46012\n",
       "Actual 1         4360       205928"
      ]
     },
     "execution_count": 97,
     "metadata": {},
     "output_type": "execute_result"
    }
   ],
   "source": [
    "# Calculating the confusion matrix\n",
    "cm = confusion_matrix(y_test, predictions)\n",
    "cm_df = pd.DataFrame(\n",
    "    cm, index=[\"Actual 0\", \"Actual 1\"], columns=[\"Predicted 0\", \"Predicted 1\"]\n",
    ")\n",
    "\n",
    "# Calculating the accuracy score\n",
    "acc_score = accuracy_score(y_test, predictions)\n",
    "\n",
    "cm_df"
   ]
  },
  {
   "cell_type": "code",
   "execution_count": 98,
   "metadata": {},
   "outputs": [
    {
     "name": "stdout",
     "output_type": "stream",
     "text": [
      "Confusion Matrix\n"
     ]
    },
    {
     "data": {
      "text/html": [
       "<div>\n",
       "<style scoped>\n",
       "    .dataframe tbody tr th:only-of-type {\n",
       "        vertical-align: middle;\n",
       "    }\n",
       "\n",
       "    .dataframe tbody tr th {\n",
       "        vertical-align: top;\n",
       "    }\n",
       "\n",
       "    .dataframe thead th {\n",
       "        text-align: right;\n",
       "    }\n",
       "</style>\n",
       "<table border=\"1\" class=\"dataframe\">\n",
       "  <thead>\n",
       "    <tr style=\"text-align: right;\">\n",
       "      <th></th>\n",
       "      <th>Predicted 0</th>\n",
       "      <th>Predicted 1</th>\n",
       "    </tr>\n",
       "  </thead>\n",
       "  <tbody>\n",
       "    <tr>\n",
       "      <th>Actual 0</th>\n",
       "      <td>3888</td>\n",
       "      <td>46012</td>\n",
       "    </tr>\n",
       "    <tr>\n",
       "      <th>Actual 1</th>\n",
       "      <td>4360</td>\n",
       "      <td>205928</td>\n",
       "    </tr>\n",
       "  </tbody>\n",
       "</table>\n",
       "</div>"
      ],
      "text/plain": [
       "          Predicted 0  Predicted 1\n",
       "Actual 0         3888        46012\n",
       "Actual 1         4360       205928"
      ]
     },
     "metadata": {},
     "output_type": "display_data"
    },
    {
     "name": "stdout",
     "output_type": "stream",
     "text": [
      "Accuracy Score : 0.8064015250511168\n",
      "Classification Report\n",
      "              precision    recall  f1-score   support\n",
      "\n",
      "           0       0.47      0.08      0.13     49900\n",
      "           1       0.82      0.98      0.89    210288\n",
      "\n",
      "    accuracy                           0.81    260188\n",
      "   macro avg       0.64      0.53      0.51    260188\n",
      "weighted avg       0.75      0.81      0.75    260188\n",
      "\n"
     ]
    }
   ],
   "source": [
    "# Displaying results\n",
    "print(\"Confusion Matrix\")\n",
    "display(cm_df)\n",
    "print(f\"Accuracy Score : {acc_score}\")\n",
    "print(\"Classification Report\")\n",
    "print(classification_report(y_test, predictions))"
   ]
  },
  {
   "cell_type": "code",
   "execution_count": 99,
   "metadata": {},
   "outputs": [
    {
     "data": {
      "image/png": "[encoded data removed]",
      "text/plain": [
       "<Figure size 720x720 with 1 Axes>"
      ]
     },
     "metadata": {},
     "output_type": "display_data"
    }
   ],
   "source": [
    "# get roc/auc info\n",
    "Y_score = rf_model.predict_proba(X_test_scaled)[:,1]\n",
    "fpr = dict()\n",
    "tpr = dict()\n",
    "fpr, tpr, _ = roc_curve(y_test, Y_score)\n",
    "\n",
    "roc_auc = dict()\n",
    "roc_auc = auc(fpr, tpr)\n",
    "\n",
    "# make the plot\n",
    "plt.figure(figsize=(10,10))\n",
    "plt.plot([0, 1], [0, 1], 'k--')\n",
    "plt.xlim([-0.05, 1.0])\n",
    "plt.ylim([0.0, 1.05])\n",
    "plt.xlabel('False Positive Rate')\n",
    "plt.ylabel('True Positive Rate')\n",
    "plt.grid(True)\n",
    "plt.plot(fpr, tpr, label='AUC = {0}'.format(roc_auc))        \n",
    "plt.legend(loc=\"lower right\", shadow=True, fancybox =True) \n",
    "plt.show()"
   ]
  },
  {
   "cell_type": "code",
   "execution_count": 100,
   "metadata": {},
   "outputs": [],
   "source": [
    "# Random Forests in sklearn will automatically calculate feature importance\n",
    "importances = rf_model.feature_importances_\n",
    "\n"
   ]
  },
  {
   "cell_type": "code",
   "execution_count": 101,
   "metadata": {},
   "outputs": [
    {
     "data": {
      "text/plain": [
       "[(0.15100287584322722, 'annual_inc'),\n",
       " (0.12563531476564063, 'credit_hist'),\n",
       " (0.11111905429099019, 'int_rate'),\n",
       " (0.10452728164349068, 'loan_amnt'),\n",
       " (0.10444629289250125, 'funded_amnt'),\n",
       " (0.07596653432320616, 'emp_length_num'),\n",
       " (0.06225593136203669, 'sub_grade'),\n",
       " (0.06023082685324962, 'fico_range_low'),\n",
       " (0.060101733588285584, 'fico_range_high'),\n",
       " (0.03154255038185964, 'verification_status'),\n",
       " (0.024292179566372175, 'grade'),\n",
       " (0.01415780719863106, 'term'),\n",
       " (0.013582768677580707, 'purpose_debt_consolidation'),\n",
       " (0.010935780299758526, 'purpose_credit_card'),\n",
       " (0.006326728714658812, 'purpose_home_improvement'),\n",
       " (0.006057205148322826, 'purpose_other'),\n",
       " (0.006023951218698393, 'home_ownership_RENT'),\n",
       " (0.005803239075124474, 'home_ownership_MORTGAGE'),\n",
       " (0.005362563449121413, 'home_ownership_OWN'),\n",
       " (0.0037248146803537073, 'purpose_major_purchase'),\n",
       " (0.00282048717292936, 'has_desc'),\n",
       " (0.0025506694513447287, 'purpose_small_business'),\n",
       " (0.0025411333111934054, 'purpose_medical'),\n",
       " (0.0021957596383647728, 'application_type'),\n",
       " (0.0019499267501499372, 'purpose_car'),\n",
       " (0.0016491218446710485, 'purpose_moving'),\n",
       " (0.001607348945344996, 'purpose_vacation'),\n",
       " (0.0012563435879132418, 'purpose_house'),\n",
       " (0.0002999612761356174, 'purpose_renewable_energy'),\n",
       " (3.209318739603776e-05, 'home_ownership_ANY'),\n",
       " (1.6860965132998026e-06, 'purpose_wedding'),\n",
       " (3.476493379484905e-08, 'purpose_educational')]"
      ]
     },
     "execution_count": 101,
     "metadata": {},
     "output_type": "execute_result"
    }
   ],
   "source": [
    "# We can sort the features by their importance\n",
    "sorted(zip(rf_model.feature_importances_, X.columns), reverse=True)\n"
   ]
  },
  {
   "cell_type": "markdown",
   "metadata": {},
   "source": [
    "## DECISION TREE"
   ]
  },
  {
   "cell_type": "code",
   "execution_count": 102,
   "metadata": {},
   "outputs": [],
   "source": [
    "# Creating the decision tree classifier instance\n",
    "dt_model = tree.DecisionTreeClassifier()\n",
    "\n",
    "# Fitting the model\n",
    "dt_model = dt_model.fit(X_train_scaled, y_train)\n",
    "\n",
    "# Making predictions using the testing data\n",
    "dt_predictions = dt_model.predict(X_test_scaled)\n",
    "\n"
   ]
  },
  {
   "cell_type": "code",
   "execution_count": 103,
   "metadata": {},
   "outputs": [],
   "source": [
    "# Calculating the confusion matrix\n",
    "dt_cm = confusion_matrix(y_test, dt_predictions)\n",
    "dt_cm_df = pd.DataFrame(\n",
    "    dt_cm, index=[\"Actual 0\", \"Actual 1\"], columns=[\"Predicted 0\", \"Predicted 1\"]\n",
    ")\n",
    "\n",
    "# Calculating the accuracy score\n",
    "dt_acc_score = accuracy_score(y_test, dt_predictions)\n",
    "\n"
   ]
  },
  {
   "cell_type": "code",
   "execution_count": 104,
   "metadata": {},
   "outputs": [
    {
     "name": "stdout",
     "output_type": "stream",
     "text": [
      "Confusion Matrix\n"
     ]
    },
    {
     "data": {
      "text/html": [
       "<div>\n",
       "<style scoped>\n",
       "    .dataframe tbody tr th:only-of-type {\n",
       "        vertical-align: middle;\n",
       "    }\n",
       "\n",
       "    .dataframe tbody tr th {\n",
       "        vertical-align: top;\n",
       "    }\n",
       "\n",
       "    .dataframe thead th {\n",
       "        text-align: right;\n",
       "    }\n",
       "</style>\n",
       "<table border=\"1\" class=\"dataframe\">\n",
       "  <thead>\n",
       "    <tr style=\"text-align: right;\">\n",
       "      <th></th>\n",
       "      <th>Predicted 0</th>\n",
       "      <th>Predicted 1</th>\n",
       "    </tr>\n",
       "  </thead>\n",
       "  <tbody>\n",
       "    <tr>\n",
       "      <th>Actual 0</th>\n",
       "      <td>14150</td>\n",
       "      <td>35750</td>\n",
       "    </tr>\n",
       "    <tr>\n",
       "      <th>Actual 1</th>\n",
       "      <td>41665</td>\n",
       "      <td>168623</td>\n",
       "    </tr>\n",
       "  </tbody>\n",
       "</table>\n",
       "</div>"
      ],
      "text/plain": [
       "          Predicted 0  Predicted 1\n",
       "Actual 0        14150        35750\n",
       "Actual 1        41665       168623"
      ]
     },
     "metadata": {},
     "output_type": "display_data"
    },
    {
     "name": "stdout",
     "output_type": "stream",
     "text": [
      "Accuracy Score : 0.7024651405906498\n",
      "Classification Report\n",
      "              precision    recall  f1-score   support\n",
      "\n",
      "           0       0.25      0.28      0.27     49900\n",
      "           1       0.83      0.80      0.81    210288\n",
      "\n",
      "    accuracy                           0.70    260188\n",
      "   macro avg       0.54      0.54      0.54    260188\n",
      "weighted avg       0.72      0.70      0.71    260188\n",
      "\n"
     ]
    }
   ],
   "source": [
    "# Displaying results\n",
    "print(\"Confusion Matrix\")\n",
    "display(dt_cm_df)\n",
    "print(f\"Accuracy Score : {dt_acc_score}\")\n",
    "print(\"Classification Report\")\n",
    "print(classification_report(y_test, dt_predictions))\n"
   ]
  },
  {
   "cell_type": "code",
   "execution_count": 105,
   "metadata": {},
   "outputs": [
    {
     "data": {
      "image/png": "[encoded data removed]",
      "text/plain": [
       "<Figure size 720x720 with 1 Axes>"
      ]
     },
     "metadata": {},
     "output_type": "display_data"
    }
   ],
   "source": [
    "# get roc/auc info\n",
    "Y_score = dt_model.predict_proba(X_test_scaled)[:,1]\n",
    "fpr = dict()\n",
    "tpr = dict()\n",
    "fpr, tpr, _ = roc_curve(y_test, Y_score)\n",
    "\n",
    "roc_auc = dict()\n",
    "roc_auc = auc(fpr, tpr)\n",
    "\n",
    "# make the plot\n",
    "plt.figure(figsize=(10,10))\n",
    "plt.plot([0, 1], [0, 1], 'k--')\n",
    "plt.xlim([-0.05, 1.0])\n",
    "plt.ylim([0.0, 1.05])\n",
    "plt.xlabel('False Positive Rate')\n",
    "plt.ylabel('True Positive Rate')\n",
    "plt.grid(True)\n",
    "plt.plot(fpr, tpr, label='AUC = {0}'.format(roc_auc))        \n",
    "plt.legend(loc=\"lower right\", shadow=True, fancybox =True) \n",
    "plt.show()"
   ]
  },
  {
   "cell_type": "code",
   "execution_count": 106,
   "metadata": {},
   "outputs": [],
   "source": [
    "# # Create DOT data\n",
    "# dot_data = tree.export_graphviz(\n",
    "#     dt_model, out_file=None, feature_names=X.columns, class_names=[\"0\", \"1\"], filled=True\n",
    "# )\n",
    "\n",
    "# # Draw graph\n",
    "# graph = pydotplus.graph_from_dot_data(dot_data)\n",
    "\n",
    "# # Show graph\n",
    "# Image(graph.create_png())"
   ]
  },
  {
   "cell_type": "markdown",
   "metadata": {},
   "source": [
    "## LOGISTIC REGRESSION"
   ]
  },
  {
   "cell_type": "code",
   "execution_count": 107,
   "metadata": {},
   "outputs": [
    {
     "data": {
      "text/plain": [
       "LogisticRegression(C=1.0, class_weight=None, dual=False, fit_intercept=True,\n",
       "                   intercept_scaling=1, l1_ratio=None, max_iter=100,\n",
       "                   multi_class='auto', n_jobs=None, penalty='l2',\n",
       "                   random_state=34, solver='lbfgs', tol=0.0001, verbose=0,\n",
       "                   warm_start=False)"
      ]
     },
     "execution_count": 107,
     "metadata": {},
     "output_type": "execute_result"
    }
   ],
   "source": [
    "lr_classifier = LogisticRegression(solver='lbfgs', random_state=34)\n",
    "lr_classifier"
   ]
  },
  {
   "cell_type": "code",
   "execution_count": 108,
   "metadata": {},
   "outputs": [
    {
     "data": {
      "text/plain": [
       "LogisticRegression(C=1.0, class_weight=None, dual=False, fit_intercept=True,\n",
       "                   intercept_scaling=1, l1_ratio=None, max_iter=100,\n",
       "                   multi_class='auto', n_jobs=None, penalty='l2',\n",
       "                   random_state=34, solver='lbfgs', tol=0.0001, verbose=0,\n",
       "                   warm_start=False)"
      ]
     },
     "execution_count": 108,
     "metadata": {},
     "output_type": "execute_result"
    }
   ],
   "source": [
    "# Train the data\n",
    "lr_classifier.fit(X_train, y_train)"
   ]
  },
  {
   "cell_type": "code",
   "execution_count": 109,
   "metadata": {},
   "outputs": [
    {
     "name": "stdout",
     "output_type": "stream",
     "text": [
      "Training Data Score: 0.8076536111495448\n",
      "Testing Data Score: 0.80821559795225\n"
     ]
    }
   ],
   "source": [
    "# Score the model\n",
    "print(f\"Training Data Score: {lr_classifier.score(X_train, y_train)}\")\n",
    "print(f\"Testing Data Score: {lr_classifier.score(X_test, y_test)}\")"
   ]
  },
  {
   "cell_type": "code",
   "execution_count": 110,
   "metadata": {},
   "outputs": [],
   "source": [
    "lr_predictions = lr_classifier.predict(X_test)"
   ]
  },
  {
   "cell_type": "code",
   "execution_count": 111,
   "metadata": {},
   "outputs": [],
   "source": [
    "#Create Confusion Matrix\n",
    "lr_cm= confusion_matrix(y_test, lr_predictions)\n",
    "lr_cm_df = pd.DataFrame(\n",
    "    lr_cm, index=[\"Actual 0\", \"Actual 1\"], columns=[\"Predicted 0\", \"Predicted 1\"]\n",
    ")"
   ]
  },
  {
   "cell_type": "code",
   "execution_count": 112,
   "metadata": {},
   "outputs": [],
   "source": [
    "# Calculating the accuracy score\n",
    "lr_acc_score = accuracy_score(y_test, lr_predictions)\n"
   ]
  },
  {
   "cell_type": "code",
   "execution_count": 113,
   "metadata": {},
   "outputs": [
    {
     "name": "stdout",
     "output_type": "stream",
     "text": [
      "Confusion Matrix\n"
     ]
    },
    {
     "data": {
      "text/html": [
       "<div>\n",
       "<style scoped>\n",
       "    .dataframe tbody tr th:only-of-type {\n",
       "        vertical-align: middle;\n",
       "    }\n",
       "\n",
       "    .dataframe tbody tr th {\n",
       "        vertical-align: top;\n",
       "    }\n",
       "\n",
       "    .dataframe thead th {\n",
       "        text-align: right;\n",
       "    }\n",
       "</style>\n",
       "<table border=\"1\" class=\"dataframe\">\n",
       "  <thead>\n",
       "    <tr style=\"text-align: right;\">\n",
       "      <th></th>\n",
       "      <th>Predicted 0</th>\n",
       "      <th>Predicted 1</th>\n",
       "    </tr>\n",
       "  </thead>\n",
       "  <tbody>\n",
       "    <tr>\n",
       "      <th>Actual 0</th>\n",
       "      <td>0</td>\n",
       "      <td>49900</td>\n",
       "    </tr>\n",
       "    <tr>\n",
       "      <th>Actual 1</th>\n",
       "      <td>0</td>\n",
       "      <td>210288</td>\n",
       "    </tr>\n",
       "  </tbody>\n",
       "</table>\n",
       "</div>"
      ],
      "text/plain": [
       "          Predicted 0  Predicted 1\n",
       "Actual 0            0        49900\n",
       "Actual 1            0       210288"
      ]
     },
     "metadata": {},
     "output_type": "display_data"
    },
    {
     "name": "stdout",
     "output_type": "stream",
     "text": [
      "Accuracy Score : 0.80821559795225\n",
      "Classification Report\n",
      "              precision    recall  f1-score   support\n",
      "\n",
      "           0       0.00      0.00      0.00     49900\n",
      "           1       0.81      1.00      0.89    210288\n",
      "\n",
      "    accuracy                           0.81    260188\n",
      "   macro avg       0.40      0.50      0.45    260188\n",
      "weighted avg       0.65      0.81      0.72    260188\n",
      "\n"
     ]
    }
   ],
   "source": [
    "# Displaying results\n",
    "print(\"Confusion Matrix\")\n",
    "display(lr_cm_df)\n",
    "print(f\"Accuracy Score : {lr_acc_score}\")\n",
    "print(\"Classification Report\")\n",
    "print(classification_report(y_test, lr_predictions))"
   ]
  },
  {
   "cell_type": "code",
   "execution_count": 114,
   "metadata": {},
   "outputs": [
    {
     "data": {
      "image/png": "[encoded data removed]",
      "text/plain": [
       "<Figure size 720x720 with 1 Axes>"
      ]
     },
     "metadata": {},
     "output_type": "display_data"
    }
   ],
   "source": [
    "# get roc/auc info\n",
    "Y_score = lr_classifier.predict_proba(X_test_scaled)[:,1]\n",
    "fpr = dict()\n",
    "tpr = dict()\n",
    "fpr, tpr, _ = roc_curve(y_test, Y_score)\n",
    "\n",
    "roc_auc = dict()\n",
    "roc_auc = auc(fpr, tpr)\n",
    "\n",
    "# make the plot\n",
    "plt.figure(figsize=(10,10))\n",
    "plt.plot([0, 1], [0, 1], 'k--')\n",
    "plt.xlim([-0.05, 1.0])\n",
    "plt.ylim([0.0, 1.05])\n",
    "plt.xlabel('False Positive Rate')\n",
    "plt.ylabel('True Positive Rate')\n",
    "plt.grid(True)\n",
    "plt.plot(fpr, tpr, label='AUC = {0}'.format(roc_auc))        \n",
    "plt.legend(loc=\"lower right\", shadow=True, fancybox =True) \n",
    "plt.show()"
   ]
  },
  {
   "cell_type": "code",
   "execution_count": 115,
   "metadata": {},
   "outputs": [],
   "source": [
    "# Predict outcomes for test data set\n",
    "#pd.DataFrame({\"Prediction\": lr_predictions, \"Actual\": y_test})"
   ]
  },
  {
   "cell_type": "code",
   "execution_count": 116,
   "metadata": {},
   "outputs": [],
   "source": [
    "from sklearn.metrics import precision_recall_curve\n",
    "\n",
    "\n",
    "probs_lr = lr_classifier.predict_proba(X_test)[:, 1]\n",
    "probs_rf = rf_model.predict_proba(X_test)[:, 1]\n",
    "#probs_dt = dt_model.predict_proba(X_test)[:, 1]\n",
    "precision_lr, recall_lr, _ = precision_recall_curve(y_test, probs_lr, pos_label=1)\n",
    "precision_rf, recall_rf, _ = precision_recall_curve(y_test, probs_rf, pos_label=1)\n",
    "#precision_dt, recall_dt, _ = precision_recall_curve(y_test, probs_dt, pos_label=1)"
   ]
  },
  {
   "cell_type": "code",
   "execution_count": 117,
   "metadata": {},
   "outputs": [
    {
     "data": {
      "text/plain": [
       "[<matplotlib.lines.Line2D at 0x7fc43487c650>]"
      ]
     },
     "execution_count": 117,
     "metadata": {},
     "output_type": "execute_result"
    },
    {
     "data": {
      "image/png": "[encoded data removed]",
      "text/plain": [
       "<Figure size 432x288 with 1 Axes>"
      ]
     },
     "metadata": {},
     "output_type": "display_data"
    }
   ],
   "source": [
    "plt.plot(recall_lr, precision_lr, marker='.')\n",
    "plt.plot(recall_rf, precision_rf, marker='x')\n",
    "#plt.plot(recall_dt, precision_rf, marker='v')"
   ]
  },
  {
   "cell_type": "markdown",
   "metadata": {},
   "source": [
    "## Gradient Boosted Tree"
   ]
  },
  {
   "cell_type": "code",
   "execution_count": 118,
   "metadata": {},
   "outputs": [
    {
     "name": "stdout",
     "output_type": "stream",
     "text": [
      "Learning rate:  0.05\n",
      "Accuracy score (training): 0.808\n",
      "Accuracy score (validation): 0.808\n",
      "\n",
      "Learning rate:  0.1\n",
      "Accuracy score (training): 0.808\n",
      "Accuracy score (validation): 0.808\n",
      "\n",
      "Learning rate:  0.25\n",
      "Accuracy score (training): 0.809\n",
      "Accuracy score (validation): 0.810\n",
      "\n",
      "Learning rate:  0.5\n",
      "Accuracy score (training): 0.809\n",
      "Accuracy score (validation): 0.809\n",
      "\n",
      "Learning rate:  0.75\n",
      "Accuracy score (training): 0.808\n",
      "Accuracy score (validation): 0.809\n",
      "\n",
      "Learning rate:  1\n",
      "Accuracy score (training): 0.808\n",
      "Accuracy score (validation): 0.809\n",
      "\n"
     ]
    }
   ],
   "source": [
    "# Create a classifier object\n",
    "learning_rates = [0.05, 0.1, 0.25, 0.5, 0.75, 1]\n",
    "for learning_rate in learning_rates:\n",
    "    gbt_classifier = GradientBoostingClassifier(n_estimators=20,\n",
    "                                            learning_rate=learning_rate,\n",
    "                                            max_features=5,\n",
    "                                            max_depth=3,\n",
    "                                            random_state=32)\n",
    "\n",
    "    # Fit the model\n",
    "    gbt_classifier.fit(X_train_scaled, y_train.ravel())\n",
    "    print(\"Learning rate: \", learning_rate)\n",
    "\n",
    "    # Score the model\n",
    "    print(\"Accuracy score (training): {0:.3f}\".format(\n",
    "        gbt_classifier.score(\n",
    "            X_train_scaled,\n",
    "            y_train.ravel())))\n",
    "    print(\"Accuracy score (validation): {0:.3f}\".format(\n",
    "        gbt_classifier.score(\n",
    "            X_test_scaled,\n",
    "            y_test.ravel())))\n",
    "    print()"
   ]
  },
  {
   "cell_type": "code",
   "execution_count": 119,
   "metadata": {},
   "outputs": [
    {
     "data": {
      "text/html": [
       "<div>\n",
       "<style scoped>\n",
       "    .dataframe tbody tr th:only-of-type {\n",
       "        vertical-align: middle;\n",
       "    }\n",
       "\n",
       "    .dataframe tbody tr th {\n",
       "        vertical-align: top;\n",
       "    }\n",
       "\n",
       "    .dataframe thead th {\n",
       "        text-align: right;\n",
       "    }\n",
       "</style>\n",
       "<table border=\"1\" class=\"dataframe\">\n",
       "  <thead>\n",
       "    <tr style=\"text-align: right;\">\n",
       "      <th></th>\n",
       "      <th>Prediction</th>\n",
       "      <th>Actual</th>\n",
       "    </tr>\n",
       "  </thead>\n",
       "  <tbody>\n",
       "    <tr>\n",
       "      <th>0</th>\n",
       "      <td>1</td>\n",
       "      <td>1</td>\n",
       "    </tr>\n",
       "    <tr>\n",
       "      <th>1</th>\n",
       "      <td>1</td>\n",
       "      <td>1</td>\n",
       "    </tr>\n",
       "    <tr>\n",
       "      <th>2</th>\n",
       "      <td>1</td>\n",
       "      <td>1</td>\n",
       "    </tr>\n",
       "    <tr>\n",
       "      <th>3</th>\n",
       "      <td>1</td>\n",
       "      <td>0</td>\n",
       "    </tr>\n",
       "    <tr>\n",
       "      <th>4</th>\n",
       "      <td>1</td>\n",
       "      <td>1</td>\n",
       "    </tr>\n",
       "    <tr>\n",
       "      <th>5</th>\n",
       "      <td>1</td>\n",
       "      <td>1</td>\n",
       "    </tr>\n",
       "    <tr>\n",
       "      <th>6</th>\n",
       "      <td>0</td>\n",
       "      <td>1</td>\n",
       "    </tr>\n",
       "    <tr>\n",
       "      <th>7</th>\n",
       "      <td>1</td>\n",
       "      <td>1</td>\n",
       "    </tr>\n",
       "    <tr>\n",
       "      <th>8</th>\n",
       "      <td>1</td>\n",
       "      <td>0</td>\n",
       "    </tr>\n",
       "    <tr>\n",
       "      <th>9</th>\n",
       "      <td>1</td>\n",
       "      <td>1</td>\n",
       "    </tr>\n",
       "    <tr>\n",
       "      <th>10</th>\n",
       "      <td>1</td>\n",
       "      <td>1</td>\n",
       "    </tr>\n",
       "    <tr>\n",
       "      <th>11</th>\n",
       "      <td>1</td>\n",
       "      <td>1</td>\n",
       "    </tr>\n",
       "    <tr>\n",
       "      <th>12</th>\n",
       "      <td>1</td>\n",
       "      <td>1</td>\n",
       "    </tr>\n",
       "    <tr>\n",
       "      <th>13</th>\n",
       "      <td>1</td>\n",
       "      <td>1</td>\n",
       "    </tr>\n",
       "    <tr>\n",
       "      <th>14</th>\n",
       "      <td>1</td>\n",
       "      <td>1</td>\n",
       "    </tr>\n",
       "    <tr>\n",
       "      <th>15</th>\n",
       "      <td>1</td>\n",
       "      <td>1</td>\n",
       "    </tr>\n",
       "    <tr>\n",
       "      <th>16</th>\n",
       "      <td>1</td>\n",
       "      <td>1</td>\n",
       "    </tr>\n",
       "    <tr>\n",
       "      <th>17</th>\n",
       "      <td>1</td>\n",
       "      <td>0</td>\n",
       "    </tr>\n",
       "    <tr>\n",
       "      <th>18</th>\n",
       "      <td>1</td>\n",
       "      <td>1</td>\n",
       "    </tr>\n",
       "    <tr>\n",
       "      <th>19</th>\n",
       "      <td>1</td>\n",
       "      <td>0</td>\n",
       "    </tr>\n",
       "  </tbody>\n",
       "</table>\n",
       "</div>"
      ],
      "text/plain": [
       "    Prediction  Actual\n",
       "0            1       1\n",
       "1            1       1\n",
       "2            1       1\n",
       "3            1       0\n",
       "4            1       1\n",
       "5            1       1\n",
       "6            0       1\n",
       "7            1       1\n",
       "8            1       0\n",
       "9            1       1\n",
       "10           1       1\n",
       "11           1       1\n",
       "12           1       1\n",
       "13           1       1\n",
       "14           1       1\n",
       "15           1       1\n",
       "16           1       1\n",
       "17           1       0\n",
       "18           1       1\n",
       "19           1       0"
      ]
     },
     "execution_count": 119,
     "metadata": {},
     "output_type": "execute_result"
    }
   ],
   "source": [
    "# Choose a learning rate and create classifier\n",
    "gbt_classifier = GradientBoostingClassifier(n_estimators=20,\n",
    "                                        learning_rate=0.75,\n",
    "                                        max_features=5,\n",
    "                                        max_depth=3,\n",
    "                                        random_state=32)\n",
    "\n",
    "# Fit the model\n",
    "gbt_classifier.fit(X_train_scaled, y_train.ravel())\n",
    "\n",
    "# Make Prediction\n",
    "gbt_predictions = gbt_classifier.predict(X_test_scaled)\n",
    "pd.DataFrame({\"Prediction\": gbt_predictions, \"Actual\": y_test.ravel()}).head(20)\n"
   ]
  },
  {
   "cell_type": "code",
   "execution_count": null,
   "metadata": {},
   "outputs": [],
   "source": []
  },
  {
   "cell_type": "code",
   "execution_count": 120,
   "metadata": {},
   "outputs": [],
   "source": [
    "#create Confusion Matrix\n",
    "gbt_cm= confusion_matrix(y_test, gbt_predictions)\n",
    "gbt_cm_df = pd.DataFrame(\n",
    "    gbt_cm, index=[\"Actual 0\", \"Actual 1\"], columns=[\"Predicted 0\", \"Predicted 1\"]\n",
    ")\n",
    "\n",
    "# Calculating the accuracy score\n",
    "gbt_acc_score = accuracy_score(y_test, gbt_predictions)\n"
   ]
  },
  {
   "cell_type": "code",
   "execution_count": 121,
   "metadata": {},
   "outputs": [
    {
     "name": "stdout",
     "output_type": "stream",
     "text": [
      "Confusion Matrix\n"
     ]
    },
    {
     "data": {
      "text/html": [
       "<div>\n",
       "<style scoped>\n",
       "    .dataframe tbody tr th:only-of-type {\n",
       "        vertical-align: middle;\n",
       "    }\n",
       "\n",
       "    .dataframe tbody tr th {\n",
       "        vertical-align: top;\n",
       "    }\n",
       "\n",
       "    .dataframe thead th {\n",
       "        text-align: right;\n",
       "    }\n",
       "</style>\n",
       "<table border=\"1\" class=\"dataframe\">\n",
       "  <thead>\n",
       "    <tr style=\"text-align: right;\">\n",
       "      <th></th>\n",
       "      <th>Predicted 0</th>\n",
       "      <th>Predicted 1</th>\n",
       "    </tr>\n",
       "  </thead>\n",
       "  <tbody>\n",
       "    <tr>\n",
       "      <th>Actual 0</th>\n",
       "      <td>2630</td>\n",
       "      <td>47270</td>\n",
       "    </tr>\n",
       "    <tr>\n",
       "      <th>Actual 1</th>\n",
       "      <td>2374</td>\n",
       "      <td>207914</td>\n",
       "    </tr>\n",
       "  </tbody>\n",
       "</table>\n",
       "</div>"
      ],
      "text/plain": [
       "          Predicted 0  Predicted 1\n",
       "Actual 0         2630        47270\n",
       "Actual 1         2374       207914"
      ]
     },
     "metadata": {},
     "output_type": "display_data"
    },
    {
     "name": "stdout",
     "output_type": "stream",
     "text": [
      "Accuracy Score : 0.8091995018986271\n",
      "Classification Report\n",
      "              precision    recall  f1-score   support\n",
      "\n",
      "           0       0.53      0.05      0.10     49900\n",
      "           1       0.81      0.99      0.89    210288\n",
      "\n",
      "    accuracy                           0.81    260188\n",
      "   macro avg       0.67      0.52      0.49    260188\n",
      "weighted avg       0.76      0.81      0.74    260188\n",
      "\n"
     ]
    }
   ],
   "source": [
    "# Displaying results\n",
    "print(\"Confusion Matrix\")\n",
    "display(gbt_cm_df)\n",
    "print(f\"Accuracy Score : {gbt_acc_score}\")\n",
    "print(\"Classification Report\")\n",
    "print(classification_report(y_test, gbt_predictions))"
   ]
  },
  {
   "cell_type": "code",
   "execution_count": 122,
   "metadata": {},
   "outputs": [
    {
     "data": {
      "image/png": "[encoded data removed]",
      "text/plain": [
       "<Figure size 720x720 with 1 Axes>"
      ]
     },
     "metadata": {},
     "output_type": "display_data"
    }
   ],
   "source": [
    "# get roc/auc info\n",
    "Y_score = gbt_classifier.predict_proba(X_test_scaled)[:,1]\n",
    "fpr = dict()\n",
    "tpr = dict()\n",
    "fpr, tpr, _ = roc_curve(y_test, Y_score)\n",
    "\n",
    "roc_auc = dict()\n",
    "roc_auc = auc(fpr, tpr)\n",
    "\n",
    "# make the plot\n",
    "plt.figure(figsize=(10,10))\n",
    "plt.plot([0, 1], [0, 1], 'k--')\n",
    "plt.xlim([-0.05, 1.0])\n",
    "plt.ylim([0.0, 1.05])\n",
    "plt.xlabel('False Positive Rate')\n",
    "plt.ylabel('True Positive Rate')\n",
    "plt.grid(True)\n",
    "plt.plot(fpr, tpr, label='AUC = {0}'.format(roc_auc))        \n",
    "plt.legend(loc=\"lower right\", shadow=True, fancybox =True) \n",
    "plt.show()"
   ]
  },
  {
   "cell_type": "markdown",
   "metadata": {},
   "source": [
    "## Neural Network"
   ]
  },
  {
   "cell_type": "code",
   "execution_count": 123,
   "metadata": {},
   "outputs": [],
   "source": [
    "# Model set-up\n",
    "number_input_features = (X_train.shape[-1])\n",
    "hidden_nodes_layer1 = 256\n",
    "hidden_nodes_layer2 = 5\n"
   ]
  },
  {
   "cell_type": "code",
   "execution_count": 124,
   "metadata": {},
   "outputs": [],
   "source": [
    "# Define the LSTM RNN model\n",
    "nn_model = Sequential()\n",
    "\n",
    "# Layer 1\n",
    "nn_model.add(\n",
    "    Dense(units=hidden_nodes_layer1, input_dim=number_input_features, activation=\"relu\")\n",
    ")\n",
    "\n",
    "# Layer 2\n",
    "nn_model.add(Dense(units=hidden_nodes_layer2, activation=\"relu\"))\n",
    "\n",
    "# Output layer\n",
    "nn_model.add(Dense(1, activation=\"sigmoid\"))"
   ]
  },
  {
   "cell_type": "code",
   "execution_count": 125,
   "metadata": {},
   "outputs": [],
   "source": [
    "# Compile the model\n",
    "nn_model.compile(\n",
    "    loss=\"binary_crossentropy\",\n",
    "    optimizer=\"adam\",\n",
    "    metrics=[\n",
    "        \"accuracy\",\n",
    "        tf.keras.metrics.TruePositives(name=\"tp\"),\n",
    "        tf.keras.metrics.TrueNegatives(name=\"tn\"),\n",
    "        tf.keras.metrics.FalsePositives(name=\"fp\"),\n",
    "        tf.keras.metrics.FalseNegatives(name=\"fn\"),\n",
    "        tf.keras.metrics.Precision(name=\"precision\"),\n",
    "        tf.keras.metrics.Recall(name=\"recall\"),\n",
    "        tf.keras.metrics.AUC(name=\"auc\"),\n",
    "    ],\n",
    ")"
   ]
  },
  {
   "cell_type": "code",
   "execution_count": 126,
   "metadata": {},
   "outputs": [
    {
     "name": "stdout",
     "output_type": "stream",
     "text": [
      "Model: \"sequential_1\"\n",
      "_________________________________________________________________\n",
      "Layer (type)                 Output Shape              Param #   \n",
      "=================================================================\n",
      "dense_3 (Dense)              (None, 256)               8448      \n",
      "_________________________________________________________________\n",
      "dense_4 (Dense)              (None, 5)                 1285      \n",
      "_________________________________________________________________\n",
      "dense_5 (Dense)              (None, 1)                 6         \n",
      "=================================================================\n",
      "Total params: 9,739\n",
      "Trainable params: 9,739\n",
      "Non-trainable params: 0\n",
      "_________________________________________________________________\n"
     ]
    }
   ],
   "source": [
    "# Summarize the model\n",
    "nn_model.summary()"
   ]
  },
  {
   "cell_type": "code",
   "execution_count": 127,
   "metadata": {},
   "outputs": [
    {
     "name": "stdout",
     "output_type": "stream",
     "text": [
      "Epoch 1/50\n",
      "586/586 [==============================] - 3s 5ms/step - loss: 77.4532 - accuracy: 0.6988 - tp: 386387.0000 - tn: 22679.0000 - fp: 89925.0000 - fn: 86432.0000 - precision: 0.8112 - recall: 0.8172 - auc: 0.5094 - val_loss: 5.8251 - val_accuracy: 0.6028 - val_tp: 99647.0000 - val_tn: 17992.0000 - val_fp: 19465.0000 - val_fn: 58037.0000 - val_precision: 0.8366 - val_recall: 0.6319 - val_auc: 0.5677\n",
      "Epoch 2/50\n",
      "586/586 [==============================] - 2s 3ms/step - loss: 65.3424 - accuracy: 0.6983 - tp: 385033.0000 - tn: 23745.0000 - fp: 88859.0000 - fn: 87786.0000 - precision: 0.8125 - recall: 0.8143 - auc: 0.5131 - val_loss: 33.7681 - val_accuracy: 0.8079 - val_tp: 157622.0000 - val_tn: 26.0000 - val_fp: 37431.0000 - val_fn: 62.0000 - val_precision: 0.8081 - val_recall: 0.9996 - val_auc: 0.5003\n",
      "Epoch 3/50\n",
      "586/586 [==============================] - 2s 3ms/step - loss: 47.7851 - accuracy: 0.7000 - tp: 385591.0000 - tn: 24196.0000 - fp: 88408.0000 - fn: 87228.0000 - precision: 0.8135 - recall: 0.8155 - auc: 0.5161 - val_loss: 89.0737 - val_accuracy: 0.8080 - val_tp: 157680.0000 - val_tn: 1.0000 - val_fp: 37456.0000 - val_fn: 4.0000 - val_precision: 0.8081 - val_recall: 1.0000 - val_auc: 0.5000\n",
      "Epoch 4/50\n",
      "586/586 [==============================] - 2s 3ms/step - loss: 40.0433 - accuracy: 0.7011 - tp: 385586.0000 - tn: 24879.0000 - fp: 87725.0000 - fn: 87233.0000 - precision: 0.8147 - recall: 0.8155 - auc: 0.5191 - val_loss: 9.3146 - val_accuracy: 0.6162 - val_tp: 96947.0000 - val_tn: 23296.0000 - val_fp: 14161.0000 - val_fn: 60737.0000 - val_precision: 0.8725 - val_recall: 0.6148 - val_auc: 0.6317\n",
      "Epoch 5/50\n",
      "586/586 [==============================] - 2s 3ms/step - loss: 31.2563 - accuracy: 0.7031 - tp: 386213.0000 - tn: 25374.0000 - fp: 87230.0000 - fn: 86606.0000 - precision: 0.8158 - recall: 0.8168 - auc: 0.5222 - val_loss: 46.3340 - val_accuracy: 0.8080 - val_tp: 157667.0000 - val_tn: 7.0000 - val_fp: 37450.0000 - val_fn: 17.0000 - val_precision: 0.8081 - val_recall: 0.9999 - val_auc: 0.5001\n",
      "Epoch 6/50\n",
      "586/586 [==============================] - 2s 3ms/step - loss: 32.0550 - accuracy: 0.7036 - tp: 386220.0000 - tn: 25695.0000 - fp: 86909.0000 - fn: 86599.0000 - precision: 0.8163 - recall: 0.8168 - auc: 0.5242 - val_loss: 19.5686 - val_accuracy: 0.8076 - val_tp: 157442.0000 - val_tn: 150.0000 - val_fp: 37307.0000 - val_fn: 242.0000 - val_precision: 0.8084 - val_recall: 0.9985 - val_auc: 0.5023\n",
      "Epoch 7/50\n",
      "586/586 [==============================] - 2s 3ms/step - loss: 28.7387 - accuracy: 0.7059 - tp: 387279.0000 - tn: 25945.0000 - fp: 86659.0000 - fn: 85540.0000 - precision: 0.8172 - recall: 0.8191 - auc: 0.5260 - val_loss: 28.3315 - val_accuracy: 0.8078 - val_tp: 157592.0000 - val_tn: 41.0000 - val_fp: 37416.0000 - val_fn: 92.0000 - val_precision: 0.8081 - val_recall: 0.9994 - val_auc: 0.5004\n",
      "Epoch 8/50\n",
      "586/586 [==============================] - 2s 3ms/step - loss: 24.0968 - accuracy: 0.7067 - tp: 387099.0000 - tn: 26605.0000 - fp: 85999.0000 - fn: 85720.0000 - precision: 0.8182 - recall: 0.8187 - auc: 0.5294 - val_loss: 25.6209 - val_accuracy: 0.2678 - val_tp: 15804.0000 - val_tn: 36457.0000 - val_fp: 1000.0000 - val_fn: 141880.0000 - val_precision: 0.9405 - val_recall: 0.1002 - val_auc: 0.5558\n",
      "Epoch 9/50\n",
      "586/586 [==============================] - 2s 3ms/step - loss: 22.0668 - accuracy: 0.7080 - tp: 387529.0000 - tn: 26922.0000 - fp: 85682.0000 - fn: 85290.0000 - precision: 0.8189 - recall: 0.8196 - auc: 0.5317 - val_loss: 7.0197 - val_accuracy: 0.7220 - val_tp: 124936.0000 - val_tn: 15965.0000 - val_fp: 21492.0000 - val_fn: 32748.0000 - val_precision: 0.8532 - val_recall: 0.7923 - val_auc: 0.6227\n",
      "Epoch 10/50\n",
      "586/586 [==============================] - 2s 3ms/step - loss: 18.2199 - accuracy: 0.7085 - tp: 387716.0000 - tn: 27035.0000 - fp: 85569.0000 - fn: 85103.0000 - precision: 0.8192 - recall: 0.8200 - auc: 0.5329 - val_loss: 32.8871 - val_accuracy: 0.8080 - val_tp: 157676.0000 - val_tn: 5.0000 - val_fp: 37452.0000 - val_fn: 8.0000 - val_precision: 0.8081 - val_recall: 0.9999 - val_auc: 0.5001\n",
      "Epoch 11/50\n",
      "586/586 [==============================] - 2s 3ms/step - loss: 15.6064 - accuracy: 0.7117 - tp: 388760.0000 - tn: 27906.0000 - fp: 84698.0000 - fn: 84059.0000 - precision: 0.8211 - recall: 0.8222 - auc: 0.5379 - val_loss: 21.0989 - val_accuracy: 0.8079 - val_tp: 157607.0000 - val_tn: 43.0000 - val_fp: 37414.0000 - val_fn: 77.0000 - val_precision: 0.8082 - val_recall: 0.9995 - val_auc: 0.5007\n",
      "Epoch 12/50\n",
      "586/586 [==============================] - 2s 3ms/step - loss: 11.6102 - accuracy: 0.6903 - tp: 373768.0000 - tn: 30330.0000 - fp: 82274.0000 - fn: 99051.0000 - precision: 0.8196 - recall: 0.7905 - auc: 0.5386 - val_loss: 0.6727 - val_accuracy: 0.8081 - val_tp: 157684.0000 - val_tn: 0.0000e+00 - val_fp: 37457.0000 - val_fn: 0.0000e+00 - val_precision: 0.8081 - val_recall: 1.0000 - val_auc: 0.4996\n",
      "Epoch 13/50\n",
      "586/586 [==============================] - 2s 3ms/step - loss: 0.6116 - accuracy: 0.8077 - tp: 472819.0000 - tn: 0.0000e+00 - fp: 112604.0000 - fn: 0.0000e+00 - precision: 0.8077 - recall: 1.0000 - auc: 0.5003 - val_loss: 0.5651 - val_accuracy: 0.8081 - val_tp: 157684.0000 - val_tn: 0.0000e+00 - val_fp: 37457.0000 - val_fn: 0.0000e+00 - val_precision: 0.8081 - val_recall: 1.0000 - val_auc: 0.4999\n",
      "Epoch 14/50\n",
      "586/586 [==============================] - 2s 3ms/step - loss: 0.5390 - accuracy: 0.8077 - tp: 472819.0000 - tn: 0.0000e+00 - fp: 112604.0000 - fn: 0.0000e+00 - precision: 0.8077 - recall: 1.0000 - auc: 0.5000 - val_loss: 0.5186 - val_accuracy: 0.8081 - val_tp: 157684.0000 - val_tn: 0.0000e+00 - val_fp: 37457.0000 - val_fn: 0.0000e+00 - val_precision: 0.8081 - val_recall: 1.0000 - val_auc: 0.5000\n",
      "Epoch 15/50\n",
      "586/586 [==============================] - 2s 3ms/step - loss: 0.5077 - accuracy: 0.8077 - tp: 472818.0000 - tn: 0.0000e+00 - fp: 112604.0000 - fn: 1.0000 - precision: 0.8077 - recall: 1.0000 - auc: 0.5008 - val_loss: 0.4990 - val_accuracy: 0.8081 - val_tp: 157684.0000 - val_tn: 0.0000e+00 - val_fp: 37457.0000 - val_fn: 0.0000e+00 - val_precision: 0.8081 - val_recall: 1.0000 - val_auc: 0.5000\n",
      "Epoch 16/50\n",
      "586/586 [==============================] - 2s 3ms/step - loss: 0.4952 - accuracy: 0.8077 - tp: 472819.0000 - tn: 0.0000e+00 - fp: 112604.0000 - fn: 0.0000e+00 - precision: 0.8077 - recall: 1.0000 - auc: 0.5005 - val_loss: 0.4918 - val_accuracy: 0.8081 - val_tp: 157684.0000 - val_tn: 0.0000e+00 - val_fp: 37457.0000 - val_fn: 0.0000e+00 - val_precision: 0.8081 - val_recall: 1.0000 - val_auc: 0.5000\n",
      "Epoch 17/50\n",
      "586/586 [==============================] - 2s 3ms/step - loss: 0.4909 - accuracy: 0.8077 - tp: 472819.0000 - tn: 0.0000e+00 - fp: 112604.0000 - fn: 0.0000e+00 - precision: 0.8077 - recall: 1.0000 - auc: 0.4988 - val_loss: 0.4896 - val_accuracy: 0.8081 - val_tp: 157684.0000 - val_tn: 0.0000e+00 - val_fp: 37457.0000 - val_fn: 0.0000e+00 - val_precision: 0.8081 - val_recall: 1.0000 - val_auc: 0.5000\n",
      "Epoch 18/50\n",
      "586/586 [==============================] - 3s 4ms/step - loss: 0.4898 - accuracy: 0.8077 - tp: 472819.0000 - tn: 0.0000e+00 - fp: 112604.0000 - fn: 0.0000e+00 - precision: 0.8077 - recall: 1.0000 - auc: 0.5011 - val_loss: 0.4891 - val_accuracy: 0.8081 - val_tp: 157684.0000 - val_tn: 0.0000e+00 - val_fp: 37457.0000 - val_fn: 0.0000e+00 - val_precision: 0.8081 - val_recall: 1.0000 - val_auc: 0.5000\n",
      "Epoch 19/50\n",
      "586/586 [==============================] - 2s 3ms/step - loss: 0.4896 - accuracy: 0.8077 - tp: 472819.0000 - tn: 0.0000e+00 - fp: 112604.0000 - fn: 0.0000e+00 - precision: 0.8077 - recall: 1.0000 - auc: 0.4998 - val_loss: 0.4891 - val_accuracy: 0.8081 - val_tp: 157684.0000 - val_tn: 0.0000e+00 - val_fp: 37457.0000 - val_fn: 0.0000e+00 - val_precision: 0.8081 - val_recall: 1.0000 - val_auc: 0.4999\n",
      "Epoch 20/50\n",
      "586/586 [==============================] - 2s 3ms/step - loss: 0.4896 - accuracy: 0.8077 - tp: 472819.0000 - tn: 0.0000e+00 - fp: 112604.0000 - fn: 0.0000e+00 - precision: 0.8077 - recall: 1.0000 - auc: 0.5000 - val_loss: 0.4891 - val_accuracy: 0.8081 - val_tp: 157684.0000 - val_tn: 0.0000e+00 - val_fp: 37457.0000 - val_fn: 0.0000e+00 - val_precision: 0.8081 - val_recall: 1.0000 - val_auc: 0.5000\n",
      "Epoch 21/50\n",
      "586/586 [==============================] - 2s 3ms/step - loss: 0.4896 - accuracy: 0.8077 - tp: 472819.0000 - tn: 0.0000e+00 - fp: 112604.0000 - fn: 0.0000e+00 - precision: 0.8077 - recall: 1.0000 - auc: 0.5000 - val_loss: 0.4891 - val_accuracy: 0.8081 - val_tp: 157684.0000 - val_tn: 0.0000e+00 - val_fp: 37457.0000 - val_fn: 0.0000e+00 - val_precision: 0.8081 - val_recall: 1.0000 - val_auc: 0.5000\n",
      "Epoch 22/50\n",
      "586/586 [==============================] - 2s 3ms/step - loss: 0.4896 - accuracy: 0.8077 - tp: 472819.0000 - tn: 0.0000e+00 - fp: 112604.0000 - fn: 0.0000e+00 - precision: 0.8077 - recall: 1.0000 - auc: 0.5000 - val_loss: 0.4891 - val_accuracy: 0.8081 - val_tp: 157684.0000 - val_tn: 0.0000e+00 - val_fp: 37457.0000 - val_fn: 0.0000e+00 - val_precision: 0.8081 - val_recall: 1.0000 - val_auc: 0.5000\n",
      "Epoch 23/50\n",
      "586/586 [==============================] - 2s 3ms/step - loss: 0.4896 - accuracy: 0.8077 - tp: 472819.0000 - tn: 0.0000e+00 - fp: 112604.0000 - fn: 0.0000e+00 - precision: 0.8077 - recall: 1.0000 - auc: 0.5002 - val_loss: 0.4891 - val_accuracy: 0.8081 - val_tp: 157684.0000 - val_tn: 0.0000e+00 - val_fp: 37457.0000 - val_fn: 0.0000e+00 - val_precision: 0.8081 - val_recall: 1.0000 - val_auc: 0.5000\n",
      "Epoch 24/50\n",
      "586/586 [==============================] - 2s 3ms/step - loss: 0.4896 - accuracy: 0.8077 - tp: 472819.0000 - tn: 0.0000e+00 - fp: 112604.0000 - fn: 0.0000e+00 - precision: 0.8077 - recall: 1.0000 - auc: 0.5000 - val_loss: 0.4891 - val_accuracy: 0.8081 - val_tp: 157684.0000 - val_tn: 0.0000e+00 - val_fp: 37457.0000 - val_fn: 0.0000e+00 - val_precision: 0.8081 - val_recall: 1.0000 - val_auc: 0.5000\n",
      "Epoch 25/50\n",
      "586/586 [==============================] - 2s 3ms/step - loss: 0.4896 - accuracy: 0.8077 - tp: 472819.0000 - tn: 0.0000e+00 - fp: 112604.0000 - fn: 0.0000e+00 - precision: 0.8077 - recall: 1.0000 - auc: 0.5000 - val_loss: 0.4891 - val_accuracy: 0.8081 - val_tp: 157684.0000 - val_tn: 0.0000e+00 - val_fp: 37457.0000 - val_fn: 0.0000e+00 - val_precision: 0.8081 - val_recall: 1.0000 - val_auc: 0.5000\n",
      "Epoch 26/50\n",
      "586/586 [==============================] - 2s 3ms/step - loss: 0.4896 - accuracy: 0.8077 - tp: 472819.0000 - tn: 0.0000e+00 - fp: 112604.0000 - fn: 0.0000e+00 - precision: 0.8077 - recall: 1.0000 - auc: 0.4997 - val_loss: 0.4891 - val_accuracy: 0.8081 - val_tp: 157684.0000 - val_tn: 0.0000e+00 - val_fp: 37457.0000 - val_fn: 0.0000e+00 - val_precision: 0.8081 - val_recall: 1.0000 - val_auc: 0.5000\n",
      "Epoch 27/50\n",
      "586/586 [==============================] - 2s 3ms/step - loss: 0.4896 - accuracy: 0.8077 - tp: 472819.0000 - tn: 0.0000e+00 - fp: 112604.0000 - fn: 0.0000e+00 - precision: 0.8077 - recall: 1.0000 - auc: 0.5000 - val_loss: 0.4891 - val_accuracy: 0.8081 - val_tp: 157684.0000 - val_tn: 0.0000e+00 - val_fp: 37457.0000 - val_fn: 0.0000e+00 - val_precision: 0.8081 - val_recall: 1.0000 - val_auc: 0.5000\n",
      "Epoch 28/50\n",
      "586/586 [==============================] - 2s 3ms/step - loss: 0.4896 - accuracy: 0.8077 - tp: 472819.0000 - tn: 0.0000e+00 - fp: 112604.0000 - fn: 0.0000e+00 - precision: 0.8077 - recall: 1.0000 - auc: 0.4999 - val_loss: 0.4891 - val_accuracy: 0.8081 - val_tp: 157684.0000 - val_tn: 0.0000e+00 - val_fp: 37457.0000 - val_fn: 0.0000e+00 - val_precision: 0.8081 - val_recall: 1.0000 - val_auc: 0.5000\n",
      "Epoch 29/50\n",
      "586/586 [==============================] - 2s 3ms/step - loss: 0.4896 - accuracy: 0.8077 - tp: 472819.0000 - tn: 0.0000e+00 - fp: 112604.0000 - fn: 0.0000e+00 - precision: 0.8077 - recall: 1.0000 - auc: 0.5000 - val_loss: 0.4891 - val_accuracy: 0.8081 - val_tp: 157684.0000 - val_tn: 0.0000e+00 - val_fp: 37457.0000 - val_fn: 0.0000e+00 - val_precision: 0.8081 - val_recall: 1.0000 - val_auc: 0.5000\n",
      "Epoch 30/50\n",
      "586/586 [==============================] - 2s 3ms/step - loss: 0.4896 - accuracy: 0.8077 - tp: 472819.0000 - tn: 0.0000e+00 - fp: 112604.0000 - fn: 0.0000e+00 - precision: 0.8077 - recall: 1.0000 - auc: 0.5000 - val_loss: 0.4891 - val_accuracy: 0.8081 - val_tp: 157684.0000 - val_tn: 0.0000e+00 - val_fp: 37457.0000 - val_fn: 0.0000e+00 - val_precision: 0.8081 - val_recall: 1.0000 - val_auc: 0.5000\n",
      "Epoch 31/50\n",
      "586/586 [==============================] - 2s 3ms/step - loss: 0.4896 - accuracy: 0.8077 - tp: 472819.0000 - tn: 0.0000e+00 - fp: 112604.0000 - fn: 0.0000e+00 - precision: 0.8077 - recall: 1.0000 - auc: 0.5000 - val_loss: 0.4891 - val_accuracy: 0.8081 - val_tp: 157684.0000 - val_tn: 0.0000e+00 - val_fp: 37457.0000 - val_fn: 0.0000e+00 - val_precision: 0.8081 - val_recall: 1.0000 - val_auc: 0.5000\n",
      "Epoch 32/50\n",
      "586/586 [==============================] - 2s 3ms/step - loss: 0.4896 - accuracy: 0.8077 - tp: 472819.0000 - tn: 0.0000e+00 - fp: 112604.0000 - fn: 0.0000e+00 - precision: 0.8077 - recall: 1.0000 - auc: 0.5003 - val_loss: 0.4891 - val_accuracy: 0.8081 - val_tp: 157684.0000 - val_tn: 0.0000e+00 - val_fp: 37457.0000 - val_fn: 0.0000e+00 - val_precision: 0.8081 - val_recall: 1.0000 - val_auc: 0.5000\n",
      "Epoch 33/50\n",
      "586/586 [==============================] - 2s 3ms/step - loss: 0.4896 - accuracy: 0.8077 - tp: 472819.0000 - tn: 0.0000e+00 - fp: 112604.0000 - fn: 0.0000e+00 - precision: 0.8077 - recall: 1.0000 - auc: 0.4999 - val_loss: 0.4891 - val_accuracy: 0.8081 - val_tp: 157684.0000 - val_tn: 0.0000e+00 - val_fp: 37457.0000 - val_fn: 0.0000e+00 - val_precision: 0.8081 - val_recall: 1.0000 - val_auc: 0.5000\n",
      "Epoch 34/50\n",
      "586/586 [==============================] - 2s 3ms/step - loss: 0.4896 - accuracy: 0.8077 - tp: 472819.0000 - tn: 0.0000e+00 - fp: 112604.0000 - fn: 0.0000e+00 - precision: 0.8077 - recall: 1.0000 - auc: 0.5000 - val_loss: 0.4891 - val_accuracy: 0.8081 - val_tp: 157684.0000 - val_tn: 0.0000e+00 - val_fp: 37457.0000 - val_fn: 0.0000e+00 - val_precision: 0.8081 - val_recall: 1.0000 - val_auc: 0.5000\n",
      "Epoch 35/50\n",
      "586/586 [==============================] - 2s 3ms/step - loss: 0.4896 - accuracy: 0.8077 - tp: 472819.0000 - tn: 0.0000e+00 - fp: 112604.0000 - fn: 0.0000e+00 - precision: 0.8077 - recall: 1.0000 - auc: 0.5000 - val_loss: 0.4891 - val_accuracy: 0.8081 - val_tp: 157684.0000 - val_tn: 0.0000e+00 - val_fp: 37457.0000 - val_fn: 0.0000e+00 - val_precision: 0.8081 - val_recall: 1.0000 - val_auc: 0.5000\n",
      "Epoch 36/50\n",
      "586/586 [==============================] - 2s 3ms/step - loss: 0.4896 - accuracy: 0.8077 - tp: 472819.0000 - tn: 0.0000e+00 - fp: 112604.0000 - fn: 0.0000e+00 - precision: 0.8077 - recall: 1.0000 - auc: 0.5003 - val_loss: 0.4891 - val_accuracy: 0.8081 - val_tp: 157684.0000 - val_tn: 0.0000e+00 - val_fp: 37457.0000 - val_fn: 0.0000e+00 - val_precision: 0.8081 - val_recall: 1.0000 - val_auc: 0.5000\n",
      "Epoch 37/50\n",
      "586/586 [==============================] - 2s 3ms/step - loss: 0.4896 - accuracy: 0.8077 - tp: 472819.0000 - tn: 0.0000e+00 - fp: 112604.0000 - fn: 0.0000e+00 - precision: 0.8077 - recall: 1.0000 - auc: 0.4999 - val_loss: 0.4890 - val_accuracy: 0.8081 - val_tp: 157684.0000 - val_tn: 0.0000e+00 - val_fp: 37457.0000 - val_fn: 0.0000e+00 - val_precision: 0.8081 - val_recall: 1.0000 - val_auc: 0.5000\n",
      "Epoch 38/50\n",
      "586/586 [==============================] - 2s 3ms/step - loss: 0.4896 - accuracy: 0.8077 - tp: 472819.0000 - tn: 0.0000e+00 - fp: 112604.0000 - fn: 0.0000e+00 - precision: 0.8077 - recall: 1.0000 - auc: 0.4995 - val_loss: 0.4890 - val_accuracy: 0.8081 - val_tp: 157684.0000 - val_tn: 0.0000e+00 - val_fp: 37457.0000 - val_fn: 0.0000e+00 - val_precision: 0.8081 - val_recall: 1.0000 - val_auc: 0.5000\n",
      "Epoch 39/50\n",
      "586/586 [==============================] - 2s 3ms/step - loss: 0.4896 - accuracy: 0.8077 - tp: 472819.0000 - tn: 0.0000e+00 - fp: 112604.0000 - fn: 0.0000e+00 - precision: 0.8077 - recall: 1.0000 - auc: 0.5000 - val_loss: 0.4890 - val_accuracy: 0.8081 - val_tp: 157684.0000 - val_tn: 0.0000e+00 - val_fp: 37457.0000 - val_fn: 0.0000e+00 - val_precision: 0.8081 - val_recall: 1.0000 - val_auc: 0.5000\n",
      "Epoch 40/50\n",
      "586/586 [==============================] - 2s 3ms/step - loss: 0.4896 - accuracy: 0.8077 - tp: 472819.0000 - tn: 0.0000e+00 - fp: 112604.0000 - fn: 0.0000e+00 - precision: 0.8077 - recall: 1.0000 - auc: 0.5000 - val_loss: 0.4890 - val_accuracy: 0.8081 - val_tp: 157684.0000 - val_tn: 0.0000e+00 - val_fp: 37457.0000 - val_fn: 0.0000e+00 - val_precision: 0.8081 - val_recall: 1.0000 - val_auc: 0.5000\n",
      "Epoch 41/50\n",
      "586/586 [==============================] - 2s 3ms/step - loss: 0.4896 - accuracy: 0.8077 - tp: 472819.0000 - tn: 0.0000e+00 - fp: 112604.0000 - fn: 0.0000e+00 - precision: 0.8077 - recall: 1.0000 - auc: 0.4998 - val_loss: 0.4890 - val_accuracy: 0.8081 - val_tp: 157684.0000 - val_tn: 0.0000e+00 - val_fp: 37457.0000 - val_fn: 0.0000e+00 - val_precision: 0.8081 - val_recall: 1.0000 - val_auc: 0.5000\n",
      "Epoch 42/50\n",
      "586/586 [==============================] - 2s 3ms/step - loss: 0.4896 - accuracy: 0.8077 - tp: 472819.0000 - tn: 0.0000e+00 - fp: 112604.0000 - fn: 0.0000e+00 - precision: 0.8077 - recall: 1.0000 - auc: 0.4998 - val_loss: 0.4890 - val_accuracy: 0.8081 - val_tp: 157684.0000 - val_tn: 0.0000e+00 - val_fp: 37457.0000 - val_fn: 0.0000e+00 - val_precision: 0.8081 - val_recall: 1.0000 - val_auc: 0.5000\n",
      "Epoch 43/50\n",
      "586/586 [==============================] - 2s 3ms/step - loss: 0.4896 - accuracy: 0.8077 - tp: 472819.0000 - tn: 0.0000e+00 - fp: 112604.0000 - fn: 0.0000e+00 - precision: 0.8077 - recall: 1.0000 - auc: 0.5000 - val_loss: 0.4890 - val_accuracy: 0.8081 - val_tp: 157684.0000 - val_tn: 0.0000e+00 - val_fp: 37457.0000 - val_fn: 0.0000e+00 - val_precision: 0.8081 - val_recall: 1.0000 - val_auc: 0.5000\n",
      "Epoch 44/50\n",
      "586/586 [==============================] - 2s 4ms/step - loss: 0.4896 - accuracy: 0.8077 - tp: 472819.0000 - tn: 0.0000e+00 - fp: 112604.0000 - fn: 0.0000e+00 - precision: 0.8077 - recall: 1.0000 - auc: 0.4996 - val_loss: 0.4890 - val_accuracy: 0.8081 - val_tp: 157684.0000 - val_tn: 0.0000e+00 - val_fp: 37457.0000 - val_fn: 0.0000e+00 - val_precision: 0.8081 - val_recall: 1.0000 - val_auc: 0.5000\n",
      "Epoch 45/50\n",
      "586/586 [==============================] - 2s 3ms/step - loss: 0.4896 - accuracy: 0.8077 - tp: 472819.0000 - tn: 0.0000e+00 - fp: 112604.0000 - fn: 0.0000e+00 - precision: 0.8077 - recall: 1.0000 - auc: 0.5006 - val_loss: 0.4890 - val_accuracy: 0.8081 - val_tp: 157684.0000 - val_tn: 0.0000e+00 - val_fp: 37457.0000 - val_fn: 0.0000e+00 - val_precision: 0.8081 - val_recall: 1.0000 - val_auc: 0.5000\n",
      "Epoch 46/50\n",
      "586/586 [==============================] - 2s 3ms/step - loss: 0.4896 - accuracy: 0.8077 - tp: 472819.0000 - tn: 0.0000e+00 - fp: 112604.0000 - fn: 0.0000e+00 - precision: 0.8077 - recall: 1.0000 - auc: 0.4994 - val_loss: 0.4890 - val_accuracy: 0.8081 - val_tp: 157684.0000 - val_tn: 0.0000e+00 - val_fp: 37457.0000 - val_fn: 0.0000e+00 - val_precision: 0.8081 - val_recall: 1.0000 - val_auc: 0.5000\n",
      "Epoch 47/50\n",
      "586/586 [==============================] - 2s 4ms/step - loss: 0.4896 - accuracy: 0.8077 - tp: 472819.0000 - tn: 0.0000e+00 - fp: 112604.0000 - fn: 0.0000e+00 - precision: 0.8077 - recall: 1.0000 - auc: 0.4998 - val_loss: 0.4890 - val_accuracy: 0.8081 - val_tp: 157684.0000 - val_tn: 0.0000e+00 - val_fp: 37457.0000 - val_fn: 0.0000e+00 - val_precision: 0.8081 - val_recall: 1.0000 - val_auc: 0.5000\n",
      "Epoch 48/50\n",
      "586/586 [==============================] - 2s 4ms/step - loss: 0.4896 - accuracy: 0.8077 - tp: 472819.0000 - tn: 0.0000e+00 - fp: 112604.0000 - fn: 0.0000e+00 - precision: 0.8077 - recall: 1.0000 - auc: 0.4999 - val_loss: 0.4890 - val_accuracy: 0.8081 - val_tp: 157684.0000 - val_tn: 0.0000e+00 - val_fp: 37457.0000 - val_fn: 0.0000e+00 - val_precision: 0.8081 - val_recall: 1.0000 - val_auc: 0.5000\n",
      "Epoch 49/50\n",
      "586/586 [==============================] - 2s 3ms/step - loss: 0.4896 - accuracy: 0.8077 - tp: 472819.0000 - tn: 0.0000e+00 - fp: 112604.0000 - fn: 0.0000e+00 - precision: 0.8077 - recall: 1.0000 - auc: 0.5002 - val_loss: 0.4890 - val_accuracy: 0.8081 - val_tp: 157684.0000 - val_tn: 0.0000e+00 - val_fp: 37457.0000 - val_fn: 0.0000e+00 - val_precision: 0.8081 - val_recall: 1.0000 - val_auc: 0.5000\n",
      "Epoch 50/50\n",
      "586/586 [==============================] - 2s 3ms/step - loss: 0.4896 - accuracy: 0.8077 - tp: 472819.0000 - tn: 0.0000e+00 - fp: 112604.0000 - fn: 0.0000e+00 - precision: 0.8077 - recall: 1.0000 - auc: 0.5000 - val_loss: 0.4890 - val_accuracy: 0.8081 - val_tp: 157684.0000 - val_tn: 0.0000e+00 - val_fp: 37457.0000 - val_fn: 0.0000e+00 - val_precision: 0.8081 - val_recall: 1.0000 - val_auc: 0.5000\n"
     ]
    }
   ],
   "source": [
    "# Training the model\n",
    "batch_size = 1000\n",
    "epochs = 50\n",
    "training_history = nn_model.fit(\n",
    "    X_train,\n",
    "    y_train,\n",
    "    validation_data=(X_val, y_val),\n",
    "    epochs=epochs,\n",
    "    batch_size=batch_size,\n",
    "    verbose=1,\n",
    ")"
   ]
  },
  {
   "cell_type": "code",
   "execution_count": 128,
   "metadata": {},
   "outputs": [
    {
     "data": {
      "text/plain": [
       "{'loss': 0.48880696296691895,\n",
       " 'accuracy': 0.8082156181335449,\n",
       " 'tp': 210288.0,\n",
       " 'tn': 0.0,\n",
       " 'fp': 49900.0,\n",
       " 'fn': 0.0,\n",
       " 'precision': 0.8082156181335449,\n",
       " 'recall': 1.0,\n",
       " 'auc': 0.5}"
      ]
     },
     "metadata": {},
     "output_type": "display_data"
    }
   ],
   "source": [
    "# Evaluate the model\n",
    "scores = nn_model.evaluate(X_test, y_test, verbose=0)\n",
    "\n",
    "# Define metrics dictionary\n",
    "nn_metrics = {k: v for k, v in zip(nn_model.metrics_names, scores)}\n",
    "\n",
    "# Display evaluation metrics results\n",
    "display(nn_metrics)"
   ]
  },
  {
   "cell_type": "code",
   "execution_count": 129,
   "metadata": {},
   "outputs": [
    {
     "data": {
      "text/html": [
       "<div>\n",
       "<style scoped>\n",
       "    .dataframe tbody tr th:only-of-type {\n",
       "        vertical-align: middle;\n",
       "    }\n",
       "\n",
       "    .dataframe tbody tr th {\n",
       "        vertical-align: top;\n",
       "    }\n",
       "\n",
       "    .dataframe thead th {\n",
       "        text-align: right;\n",
       "    }\n",
       "</style>\n",
       "<table border=\"1\" class=\"dataframe\">\n",
       "  <thead>\n",
       "    <tr style=\"text-align: right;\">\n",
       "      <th>Predicted</th>\n",
       "      <th>Positive (1)</th>\n",
       "      <th>Negative (0)</th>\n",
       "    </tr>\n",
       "    <tr>\n",
       "      <th>Actual</th>\n",
       "      <th></th>\n",
       "      <th></th>\n",
       "    </tr>\n",
       "  </thead>\n",
       "  <tbody>\n",
       "    <tr>\n",
       "      <th>Positive(1)</th>\n",
       "      <td>TP=210288.0</td>\n",
       "      <td>FN=49900.0</td>\n",
       "    </tr>\n",
       "    <tr>\n",
       "      <th>Negative(0)</th>\n",
       "      <td>FP=0.0</td>\n",
       "      <td>TN=0.0</td>\n",
       "    </tr>\n",
       "  </tbody>\n",
       "</table>\n",
       "</div>"
      ],
      "text/plain": [
       "Predicted   Positive (1) Negative (0)\n",
       "Actual                               \n",
       "Positive(1)  TP=210288.0   FN=49900.0\n",
       "Negative(0)       FP=0.0       TN=0.0"
      ]
     },
     "execution_count": 129,
     "metadata": {},
     "output_type": "execute_result"
    }
   ],
   "source": [
    "\n",
    "# Define the confusion matrix data\n",
    "nn_cm_df = pd.DataFrame(\n",
    "    {\n",
    "        \"Positive (1)\": [f\"TP={nn_metrics['tp']}\", f\"FP={nn_metrics['fn']}\"],\n",
    "        \"Negative (0)\": [f\"FN={nn_metrics['fp']}\", f\"TN={nn_metrics['tn']}\"],\n",
    "    },\n",
    "    index=[\"Positive(1)\", \"Negative(0)\"],\n",
    ")\n",
    "nn_cm_df.index.name = \"Actual\"\n",
    "nn_cm_df.columns.name = \"Predicted\"\n",
    "\n",
    "# Show the confusion matrix\n",
    "nn_cm_df"
   ]
  },
  {
   "cell_type": "code",
   "execution_count": 130,
   "metadata": {},
   "outputs": [
    {
     "name": "stdout",
     "output_type": "stream",
     "text": [
      "              precision    recall  f1-score   support\n",
      "\n",
      "           0       0.00      0.00      0.00         0\n",
      "           1       1.00      0.81      0.89    260188\n",
      "\n",
      "    accuracy                           0.81    260188\n",
      "   macro avg       0.50      0.40      0.45    260188\n",
      "weighted avg       1.00      0.81      0.89    260188\n",
      "\n"
     ]
    }
   ],
   "source": [
    "# Predict classes using testing data\n",
    "y_predict_classes = nn_model.predict_classes(X_test, batch_size=1000)\n",
    "\n",
    "# Display classification report\n",
    "print(classification_report(y_predict_classes, y_test))"
   ]
  },
  {
   "cell_type": "code",
   "execution_count": 131,
   "metadata": {},
   "outputs": [
    {
     "data": {
      "text/plain": [
       "<matplotlib.axes._subplots.AxesSubplot at 0x7fc12d4e4d50>"
      ]
     },
     "execution_count": 131,
     "metadata": {},
     "output_type": "execute_result"
    },
    {
     "data": {
      "image/png": "[encoded data removed]",
      "text/plain": [
       "<Figure size 432x288 with 1 Axes>"
      ]
     },
     "metadata": {},
     "output_type": "display_data"
    }
   ],
   "source": [
    "# Plotting loss\n",
    "loss_df = pd.DataFrame(\n",
    "    {\n",
    "        \"Epoch\": range(1, epochs + 1),\n",
    "        \"Train\": training_history.history[\"loss\"],\n",
    "        \"Val\": training_history.history[\"val_loss\"],\n",
    "    }\n",
    ")\n",
    "loss_df.set_index(\"Epoch\", inplace=True)\n",
    "loss_df.plot(title=\"Loss\")"
   ]
  },
  {
   "cell_type": "code",
   "execution_count": 132,
   "metadata": {},
   "outputs": [
    {
     "data": {
      "text/plain": [
       "<matplotlib.axes._subplots.AxesSubplot at 0x7fc14ff5d810>"
      ]
     },
     "execution_count": 132,
     "metadata": {},
     "output_type": "execute_result"
    },
    {
     "data": {
      "image/png": "[encoded data removed]",
      "text/plain": [
       "<Figure size 432x288 with 1 Axes>"
      ]
     },
     "metadata": {},
     "output_type": "display_data"
    }
   ],
   "source": [
    "# Plotting accuracy\n",
    "accuracy_df = pd.DataFrame(\n",
    "    {\n",
    "        \"Epoch\": range(1, epochs + 1),\n",
    "        \"Train\": training_history.history[\"accuracy\"],\n",
    "        \"Val\": training_history.history[\"val_accuracy\"],\n",
    "    }\n",
    ")\n",
    "accuracy_df.set_index(\"Epoch\", inplace=True)\n",
    "accuracy_df.plot(title=\"Accuracy\")"
   ]
  },
  {
   "cell_type": "code",
   "execution_count": 133,
   "metadata": {},
   "outputs": [
    {
     "data": {
      "text/plain": [
       "<matplotlib.axes._subplots.AxesSubplot at 0x7fc15038d950>"
      ]
     },
     "execution_count": 133,
     "metadata": {},
     "output_type": "execute_result"
    },
    {
     "data": {
      "image/png": "[encoded data removed]",
      "text/plain": [
       "<Figure size 432x288 with 1 Axes>"
      ]
     },
     "metadata": {},
     "output_type": "display_data"
    }
   ],
   "source": [
    "# Plotting AUC\n",
    "auc_df = pd.DataFrame(\n",
    "    {\n",
    "        \"Epoch\": range(1, epochs + 1),\n",
    "        \"Train\": training_history.history[\"auc\"],\n",
    "        \"Val\": training_history.history[\"val_auc\"],\n",
    "    }\n",
    ")\n",
    "auc_df.set_index(\"Epoch\", inplace=True)\n",
    "auc_df.plot(title=\"AUC\")"
   ]
  },
  {
   "cell_type": "code",
   "execution_count": null,
   "metadata": {},
   "outputs": [],
   "source": []
  },
  {
   "cell_type": "code",
   "execution_count": 134,
   "metadata": {},
   "outputs": [
    {
     "data": {
      "text/plain": [
       "<matplotlib.axes._subplots.AxesSubplot at 0x7fc14b6675d0>"
      ]
     },
     "execution_count": 134,
     "metadata": {},
     "output_type": "execute_result"
    },
    {
     "data": {
      "image/png": "[encoded data removed]",
      "text/plain": [
       "<Figure size 432x288 with 1 Axes>"
      ]
     },
     "metadata": {},
     "output_type": "display_data"
    },
    {
     "data": {
      "image/png": "[encoded data removed]",
      "text/plain": [
       "<Figure size 432x288 with 1 Axes>"
      ]
     },
     "metadata": {},
     "output_type": "display_data"
    }
   ],
   "source": [
    "# Making predictions to feed the roc_curve module\n",
    "train_predictions = nn_model.predict(X_train, batch_size=1000)\n",
    "test_predictions = nn_model.predict(X_test, batch_size=1000)\n",
    "\n",
    "# Calculate the ROC curve and AUC for the training set\n",
    "fpr_train, tpr_train, thresholds_train = roc_curve(y_train, train_predictions)\n",
    "auc_train = auc(fpr_train, tpr_train)\n",
    "auc_train = round(auc_train, 4)\n",
    "\n",
    "# Calculate the ROC curve and AUC for the testing set\n",
    "fpr_test, tpr_test, thresholds_test = roc_curve(y_test, test_predictions)\n",
    "auc_test = auc(fpr_test, tpr_test)\n",
    "auc_test = round(auc_test, 4)\n",
    "\n",
    "# Create a DataFrame with the fpr and tpr results\n",
    "roc_df_train = pd.DataFrame({\"FPR Train\": fpr_train, \"TPR Train\": tpr_train,})\n",
    "roc_df_test = pd.DataFrame({\"FPR Test\": fpr_test, \"TPR Test\": tpr_test,})\n",
    "\n",
    "# Plotting the ROC Curves\n",
    "roc_df_train.plot(\n",
    "    x=\"FPR Train\",\n",
    "    y=\"TPR Train\",\n",
    "    xlim=([-0.05, 1.05]),\n",
    "    title=f\"Train ROC Curve (AUC={auc_train})\",\n",
    ")\n",
    "\n",
    "roc_df_test.plot(\n",
    "    x=\"FPR Test\",\n",
    "    y=\"TPR Test\",\n",
    "    color=\"red\",\n",
    "    style=\"--\",\n",
    "    xlim=([-0.05, 1.05]),\n",
    "    title=f\"Test ROC Curve (AUC={auc_test})\",\n",
    ")"
   ]
  },
  {
   "cell_type": "code",
   "execution_count": null,
   "metadata": {},
   "outputs": [],
   "source": []
  }
 ],
 "metadata": {
  "kernelspec": {
   "display_name": "Python 3",
   "language": "python",
   "name": "python3"
  },
  "language_info": {
   "codemirror_mode": {
    "name": "ipython",
    "version": 3
   },
   "file_extension": ".py",
   "mimetype": "text/x-python",
   "name": "python",
   "nbconvert_exporter": "python",
   "pygments_lexer": "ipython3",
   "version": "3.7.6"
  }
 },
 "nbformat": 4,
 "nbformat_minor": 4
}
